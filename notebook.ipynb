{
 "cells": [
  {
   "cell_type": "markdown",
   "metadata": {
    "id": "0hrbMn8X1zfW"
   },
   "source": [
    "# Using Recommender Systems to Identify Top Beauty Products\n",
    "\n",
    "Student name: Jonathan Lee\n",
    "\n",
    "Student pace: Full Time\n",
    "\n",
    "Scheduled project review date/time: June 22, 2pm\n",
    "\n",
    "Instructor name: James Irving\n",
    "\n",
    "Blog post URL: "
   ]
  },
  {
   "cell_type": "markdown",
   "metadata": {
    "id": "Lxhl9NRg1zfW"
   },
   "source": [
    "## Overview\n",
    "\n",
    "This project uses the Surprise package from scikit with Amazon review data of Luxury Beauty products to build a recommendation system. For this analysis, we will examine the performance of memory-based collaborative filtering in the form of K-Nearest Neighbors, as well as of model-based collaborative filtering in the form of Singular Value Decomposition. From our test results, we find that out of KNN methods, Singular Value Decomposition, and Alternating Least Squares methods, Singular Value Decomposition was the best performing model for our selected data. We also examine what the optimal hyperparameters are for this particular dataset."
   ]
  },
  {
   "cell_type": "markdown",
   "metadata": {
    "id": "nKdoCKo41zfX"
   },
   "source": [
    "## Business Problem\n",
    "\n",
    "Our client is a beauty product retailer that wants to know what the most popular products on Amazon are, as well as what other products customers would be likely to give high ratings to, under the assumption that they would give high ratings to these popular products. We want to optimize a recommender system based on Amazon reviews that as accurately as possible predicts other products that customers would be likely to enjoy. Using this optimized recommender system, we will move forward with the goal of using our client's customer preferences to extract insights into what other brands/products would be successful if our client were to add them to their product offering.\n",
    "***\n",
    "Questions to address:\n",
    "* What is are the optimal model and hyperparameters to build a recommender system to work with Amazon ratings dataset to provide recommendations for our own customers?\n",
    "* What are Amazon's most popular products in terms of number of ratings?\n",
    "* Assuming that our client's customers currently give high ratings to the popular products on Amazon, what other products can we recommend adding to inventory?\n",
    "***"
   ]
  },
  {
   "cell_type": "markdown",
   "metadata": {
    "id": "xR7uxb181zfX"
   },
   "source": [
    "## Data Understanding and Preparation\n",
    "\n",
    "In this analysis, we use Amazon review data and product metadata featured in the following paper:\n",
    "\n",
    "**Justifying recommendations using distantly-labeled reviews and fined-grained aspects**\n",
    "\n",
    "Jianmo Ni, Jiacheng Li, Julian McAuley\n",
    "\n",
    "\n",
    "*Empirical Methods in Natural Language Processing (EMNLP), 2019*\n",
    "\n",
    "Due to the large size of the complete dataset and hardware limitations, we will complete the analysis with only reviews and metadata from the luxury beauty product category.\n",
    "\n",
    "Let's begin by loading in our data and doing some Exploratory Data Analysis."
   ]
  },
  {
   "cell_type": "code",
   "execution_count": 1,
   "metadata": {
    "ExecuteTime": {
     "end_time": "2021-06-23T18:27:29.586461Z",
     "start_time": "2021-06-23T18:27:27.979848Z"
    },
    "id": "v4HjWyK71zfY"
   },
   "outputs": [],
   "source": [
    "# Import standard packages\n",
    "import sys\n",
    "import pandas as pd\n",
    "import numpy as np\n",
    "import matplotlib.pyplot as plt\n",
    "import seaborn as sns\n",
    "\n",
    "%matplotlib inline\n",
    "\n",
    "# Set random seed\n",
    "np.random.seed(27)"
   ]
  },
  {
   "cell_type": "code",
   "execution_count": 2,
   "metadata": {
    "ExecuteTime": {
     "end_time": "2021-06-23T18:27:29.591973Z",
     "start_time": "2021-06-23T18:27:29.588792Z"
    }
   },
   "outputs": [],
   "source": [
    "# Set theme and style for plots\n",
    "sns.set_theme('talk')\n",
    "sns.set_style('darkgrid')"
   ]
  },
  {
   "cell_type": "markdown",
   "metadata": {},
   "source": [
    "### Loading in the Data\n",
    "\n",
    "We have two tables to work with in this analysis:\n",
    "1. Review data: contains product ASIN code, user code, and the rating that user provided.\n",
    "2. Product metadata which includes all product metadata including price, product name, and product images paired with ASIN codes."
   ]
  },
  {
   "cell_type": "code",
   "execution_count": 3,
   "metadata": {
    "ExecuteTime": {
     "end_time": "2021-06-23T18:27:31.060866Z",
     "start_time": "2021-06-23T18:27:29.598135Z"
    },
    "colab": {
     "base_uri": "https://localhost:8080/",
     "height": 419
    },
    "id": "Fe13XBZJ1zfY",
    "outputId": "1b4d0bf0-5652-4cf4-ef16-1978268f3977"
   },
   "outputs": [
    {
     "data": {
      "text/html": [
       "<div>\n",
       "<style scoped>\n",
       "    .dataframe tbody tr th:only-of-type {\n",
       "        vertical-align: middle;\n",
       "    }\n",
       "\n",
       "    .dataframe tbody tr th {\n",
       "        vertical-align: top;\n",
       "    }\n",
       "\n",
       "    .dataframe thead th {\n",
       "        text-align: right;\n",
       "    }\n",
       "</style>\n",
       "<table border=\"1\" class=\"dataframe\">\n",
       "  <thead>\n",
       "    <tr style=\"text-align: right;\">\n",
       "      <th></th>\n",
       "      <th>asin</th>\n",
       "      <th>user</th>\n",
       "      <th>rating</th>\n",
       "      <th>timestamp</th>\n",
       "    </tr>\n",
       "  </thead>\n",
       "  <tbody>\n",
       "    <tr>\n",
       "      <th>0</th>\n",
       "      <td>B00004U9V2</td>\n",
       "      <td>A1Q6MUU0B2ZDQG</td>\n",
       "      <td>2.0</td>\n",
       "      <td>1276560000</td>\n",
       "    </tr>\n",
       "    <tr>\n",
       "      <th>1</th>\n",
       "      <td>B00004U9V2</td>\n",
       "      <td>A3HO2SQDCZIE9S</td>\n",
       "      <td>5.0</td>\n",
       "      <td>1262822400</td>\n",
       "    </tr>\n",
       "    <tr>\n",
       "      <th>2</th>\n",
       "      <td>B00004U9V2</td>\n",
       "      <td>A2EM03F99X3RJZ</td>\n",
       "      <td>5.0</td>\n",
       "      <td>1524009600</td>\n",
       "    </tr>\n",
       "    <tr>\n",
       "      <th>3</th>\n",
       "      <td>B00004U9V2</td>\n",
       "      <td>A3Z74TDRGD0HU</td>\n",
       "      <td>5.0</td>\n",
       "      <td>1524009600</td>\n",
       "    </tr>\n",
       "    <tr>\n",
       "      <th>4</th>\n",
       "      <td>B00004U9V2</td>\n",
       "      <td>A2UXFNW9RTL4VM</td>\n",
       "      <td>5.0</td>\n",
       "      <td>1523923200</td>\n",
       "    </tr>\n",
       "    <tr>\n",
       "      <th>...</th>\n",
       "      <td>...</td>\n",
       "      <td>...</td>\n",
       "      <td>...</td>\n",
       "      <td>...</td>\n",
       "    </tr>\n",
       "    <tr>\n",
       "      <th>574623</th>\n",
       "      <td>B01HIQEOLO</td>\n",
       "      <td>AHYJ78MVF4UQO</td>\n",
       "      <td>5.0</td>\n",
       "      <td>1489968000</td>\n",
       "    </tr>\n",
       "    <tr>\n",
       "      <th>574624</th>\n",
       "      <td>B01HIQEOLO</td>\n",
       "      <td>A1L2RT7KBNK02K</td>\n",
       "      <td>5.0</td>\n",
       "      <td>1477440000</td>\n",
       "    </tr>\n",
       "    <tr>\n",
       "      <th>574625</th>\n",
       "      <td>B01HIQEOLO</td>\n",
       "      <td>A36MLXQX9WPPW9</td>\n",
       "      <td>5.0</td>\n",
       "      <td>1475193600</td>\n",
       "    </tr>\n",
       "    <tr>\n",
       "      <th>574626</th>\n",
       "      <td>B01HJ2UY0W</td>\n",
       "      <td>A23DRCOMC2RIXF</td>\n",
       "      <td>1.0</td>\n",
       "      <td>1480896000</td>\n",
       "    </tr>\n",
       "    <tr>\n",
       "      <th>574627</th>\n",
       "      <td>B01HJ2UY1G</td>\n",
       "      <td>AJEDVHTLS9P3V</td>\n",
       "      <td>5.0</td>\n",
       "      <td>1484352000</td>\n",
       "    </tr>\n",
       "  </tbody>\n",
       "</table>\n",
       "<p>574628 rows × 4 columns</p>\n",
       "</div>"
      ],
      "text/plain": [
       "              asin            user  rating   timestamp\n",
       "0       B00004U9V2  A1Q6MUU0B2ZDQG     2.0  1276560000\n",
       "1       B00004U9V2  A3HO2SQDCZIE9S     5.0  1262822400\n",
       "2       B00004U9V2  A2EM03F99X3RJZ     5.0  1524009600\n",
       "3       B00004U9V2   A3Z74TDRGD0HU     5.0  1524009600\n",
       "4       B00004U9V2  A2UXFNW9RTL4VM     5.0  1523923200\n",
       "...            ...             ...     ...         ...\n",
       "574623  B01HIQEOLO   AHYJ78MVF4UQO     5.0  1489968000\n",
       "574624  B01HIQEOLO  A1L2RT7KBNK02K     5.0  1477440000\n",
       "574625  B01HIQEOLO  A36MLXQX9WPPW9     5.0  1475193600\n",
       "574626  B01HJ2UY0W  A23DRCOMC2RIXF     1.0  1480896000\n",
       "574627  B01HJ2UY1G   AJEDVHTLS9P3V     5.0  1484352000\n",
       "\n",
       "[574628 rows x 4 columns]"
      ]
     },
     "metadata": {},
     "output_type": "display_data"
    },
    {
     "data": {
      "text/html": [
       "<div>\n",
       "<style scoped>\n",
       "    .dataframe tbody tr th:only-of-type {\n",
       "        vertical-align: middle;\n",
       "    }\n",
       "\n",
       "    .dataframe tbody tr th {\n",
       "        vertical-align: top;\n",
       "    }\n",
       "\n",
       "    .dataframe thead th {\n",
       "        text-align: right;\n",
       "    }\n",
       "</style>\n",
       "<table border=\"1\" class=\"dataframe\">\n",
       "  <thead>\n",
       "    <tr style=\"text-align: right;\">\n",
       "      <th></th>\n",
       "      <th>category</th>\n",
       "      <th>tech1</th>\n",
       "      <th>description</th>\n",
       "      <th>fit</th>\n",
       "      <th>title</th>\n",
       "      <th>also_buy</th>\n",
       "      <th>tech2</th>\n",
       "      <th>brand</th>\n",
       "      <th>feature</th>\n",
       "      <th>rank</th>\n",
       "      <th>also_view</th>\n",
       "      <th>details</th>\n",
       "      <th>main_cat</th>\n",
       "      <th>similar_item</th>\n",
       "      <th>date</th>\n",
       "      <th>price</th>\n",
       "      <th>asin</th>\n",
       "      <th>imageURL</th>\n",
       "      <th>imageURLHighRes</th>\n",
       "    </tr>\n",
       "  </thead>\n",
       "  <tbody>\n",
       "    <tr>\n",
       "      <th>0</th>\n",
       "      <td>[]</td>\n",
       "      <td></td>\n",
       "      <td>[After a long day of handling thorny situation...</td>\n",
       "      <td></td>\n",
       "      <td>Crabtree &amp;amp; Evelyn - Gardener's Ultra-Moist...</td>\n",
       "      <td>[B00GHX7H0A, B00FRERO7G, B00R68QXCS, B000Z65AZ...</td>\n",
       "      <td></td>\n",
       "      <td></td>\n",
       "      <td>[]</td>\n",
       "      <td>4,324 in Beauty &amp; Personal Care (</td>\n",
       "      <td>[B00FRERO7G, B00GHX7H0A, B07GFHJRMX, B00TJ3NBN...</td>\n",
       "      <td>{'\n",
       "    Product Dimensions: \n",
       "    ': '2.2 x 2.2 ...</td>\n",
       "      <td>Luxury Beauty</td>\n",
       "      <td></td>\n",
       "      <td>NaT</td>\n",
       "      <td>$30.00</td>\n",
       "      <td>B00004U9V2</td>\n",
       "      <td>[https://images-na.ssl-images-amazon.com/image...</td>\n",
       "      <td>[https://images-na.ssl-images-amazon.com/image...</td>\n",
       "    </tr>\n",
       "    <tr>\n",
       "      <th>1</th>\n",
       "      <td>[]</td>\n",
       "      <td></td>\n",
       "      <td>[If you haven't experienced the pleasures of b...</td>\n",
       "      <td></td>\n",
       "      <td>AHAVA Bath Salts</td>\n",
       "      <td>[]</td>\n",
       "      <td></td>\n",
       "      <td></td>\n",
       "      <td>[]</td>\n",
       "      <td>1,633,549 in Beauty &amp; Personal Care (</td>\n",
       "      <td>[]</td>\n",
       "      <td>{'\n",
       "    Product Dimensions: \n",
       "    ': '3 x 3.5 x ...</td>\n",
       "      <td>Luxury Beauty</td>\n",
       "      <td></td>\n",
       "      <td>NaT</td>\n",
       "      <td></td>\n",
       "      <td>B0000531EN</td>\n",
       "      <td>[]</td>\n",
       "      <td>[]</td>\n",
       "    </tr>\n",
       "    <tr>\n",
       "      <th>2</th>\n",
       "      <td>[]</td>\n",
       "      <td></td>\n",
       "      <td>[Rich, black mineral mud, harvested from the b...</td>\n",
       "      <td></td>\n",
       "      <td>AHAVA Dead Sea Mineral Mud, 8.5 oz, Pack of 4</td>\n",
       "      <td>[]</td>\n",
       "      <td></td>\n",
       "      <td></td>\n",
       "      <td>[]</td>\n",
       "      <td>1,806,710 in Beauty &amp;amp; Personal Care (</td>\n",
       "      <td>[]</td>\n",
       "      <td>{'\n",
       "    Product Dimensions: \n",
       "    ': '5.1 x 3 x ...</td>\n",
       "      <td>Luxury Beauty</td>\n",
       "      <td></td>\n",
       "      <td>NaT</td>\n",
       "      <td></td>\n",
       "      <td>B0000532JH</td>\n",
       "      <td>[https://images-na.ssl-images-amazon.com/image...</td>\n",
       "      <td>[https://images-na.ssl-images-amazon.com/image...</td>\n",
       "    </tr>\n",
       "    <tr>\n",
       "      <th>3</th>\n",
       "      <td>[]</td>\n",
       "      <td></td>\n",
       "      <td>[This liquid soap with convenient pump dispens...</td>\n",
       "      <td></td>\n",
       "      <td>Crabtree &amp;amp; Evelyn Hand Soap, Gardeners, 10...</td>\n",
       "      <td>[]</td>\n",
       "      <td></td>\n",
       "      <td></td>\n",
       "      <td>[]</td>\n",
       "      <td>[]</td>\n",
       "      <td>[B00004U9V2, B00GHX7H0A, B00FRERO7G, B00R68QXC...</td>\n",
       "      <td>{'\n",
       "    Product Dimensions: \n",
       "    ': '2.6 x 2.6 ...</td>\n",
       "      <td>Luxury Beauty</td>\n",
       "      <td></td>\n",
       "      <td>NaT</td>\n",
       "      <td>$15.99</td>\n",
       "      <td>B00005A77F</td>\n",
       "      <td>[https://images-na.ssl-images-amazon.com/image...</td>\n",
       "      <td>[https://images-na.ssl-images-amazon.com/image...</td>\n",
       "    </tr>\n",
       "    <tr>\n",
       "      <th>4</th>\n",
       "      <td>[]</td>\n",
       "      <td></td>\n",
       "      <td>[Remember why you love your favorite blanket? ...</td>\n",
       "      <td></td>\n",
       "      <td>Soy Milk Hand Crme</td>\n",
       "      <td>[B000NZT6KM, B001BY229Q, B008J724QY, B0009YGKJ...</td>\n",
       "      <td></td>\n",
       "      <td></td>\n",
       "      <td>[]</td>\n",
       "      <td>42,464 in Beauty &amp;amp; Personal Care (</td>\n",
       "      <td>[]</td>\n",
       "      <td>{'\n",
       "    Product Dimensions: \n",
       "    ': '7.2 x 2.2 ...</td>\n",
       "      <td>Luxury Beauty</td>\n",
       "      <td></td>\n",
       "      <td>NaT</td>\n",
       "      <td>$18.00</td>\n",
       "      <td>B00005NDTD</td>\n",
       "      <td>[https://images-na.ssl-images-amazon.com/image...</td>\n",
       "      <td>[https://images-na.ssl-images-amazon.com/image...</td>\n",
       "    </tr>\n",
       "    <tr>\n",
       "      <th>...</th>\n",
       "      <td>...</td>\n",
       "      <td>...</td>\n",
       "      <td>...</td>\n",
       "      <td>...</td>\n",
       "      <td>...</td>\n",
       "      <td>...</td>\n",
       "      <td>...</td>\n",
       "      <td>...</td>\n",
       "      <td>...</td>\n",
       "      <td>...</td>\n",
       "      <td>...</td>\n",
       "      <td>...</td>\n",
       "      <td>...</td>\n",
       "      <td>...</td>\n",
       "      <td>...</td>\n",
       "      <td>...</td>\n",
       "      <td>...</td>\n",
       "      <td>...</td>\n",
       "      <td>...</td>\n",
       "    </tr>\n",
       "    <tr>\n",
       "      <th>12294</th>\n",
       "      <td>[]</td>\n",
       "      <td></td>\n",
       "      <td>[, CND Craft Culture Collection: Patina Buckle...</td>\n",
       "      <td></td>\n",
       "      <td>CND Shellac Power Polish, Patina Buckle</td>\n",
       "      <td>[B003ONLAXQ, B00YDEZ9T6, B074KHRD13, B00R3PZK1...</td>\n",
       "      <td></td>\n",
       "      <td></td>\n",
       "      <td>[]</td>\n",
       "      <td>88,740 in Beauty &amp; Personal Care (</td>\n",
       "      <td>[B00D2VMUA2, B074KJZJYW, B074KHRD13, B073SB9JW...</td>\n",
       "      <td>{'\n",
       "    Item Weight: \n",
       "    ': '0.48 ounces', 'Sh...</td>\n",
       "      <td>Luxury Beauty</td>\n",
       "      <td></td>\n",
       "      <td>NaT</td>\n",
       "      <td>$15.95</td>\n",
       "      <td>B01HIQIEYC</td>\n",
       "      <td>[]</td>\n",
       "      <td>[]</td>\n",
       "    </tr>\n",
       "    <tr>\n",
       "      <th>12295</th>\n",
       "      <td>[]</td>\n",
       "      <td></td>\n",
       "      <td>[CND Shellac was designed to be used as a syst...</td>\n",
       "      <td></td>\n",
       "      <td>CND Shellac power polish denim patch</td>\n",
       "      <td>[B003ONLAXQ, B003OH0KBA, B004LEMWGG, B01MT91G4...</td>\n",
       "      <td></td>\n",
       "      <td></td>\n",
       "      <td>[]</td>\n",
       "      <td>122,331 in Beauty &amp; Personal Care (</td>\n",
       "      <td>[B00D2VMUA2, B01L0EV8X2, B004LEMWGG, B00EFGDYZ...</td>\n",
       "      <td>{'Shipping Weight:': '1.4 ounces (', 'ASIN:': ...</td>\n",
       "      <td>Luxury Beauty</td>\n",
       "      <td></td>\n",
       "      <td>NaT</td>\n",
       "      <td>$15.95</td>\n",
       "      <td>B01HIQHQU0</td>\n",
       "      <td>[]</td>\n",
       "      <td>[]</td>\n",
       "    </tr>\n",
       "    <tr>\n",
       "      <th>12296</th>\n",
       "      <td>[]</td>\n",
       "      <td></td>\n",
       "      <td>[CND Shellac was designed to be used as a syst...</td>\n",
       "      <td></td>\n",
       "      <td>CND Shellac, Leather Satchel</td>\n",
       "      <td>[B003ONLAXQ, B003OH0KBA, B004LEMWGG, B01MT91G4...</td>\n",
       "      <td></td>\n",
       "      <td></td>\n",
       "      <td>[]</td>\n",
       "      <td>168,028 in Beauty &amp; Personal Care (</td>\n",
       "      <td>[B00D2VMUA2, B01L0EV8X2, B004LEMWGG, B00EFGDYZ...</td>\n",
       "      <td>{'Shipping Weight:': '1.4 ounces (', 'Domestic...</td>\n",
       "      <td>Luxury Beauty</td>\n",
       "      <td></td>\n",
       "      <td>NaT</td>\n",
       "      <td>$15.95</td>\n",
       "      <td>B01HIQEOLO</td>\n",
       "      <td>[https://images-na.ssl-images-amazon.com/image...</td>\n",
       "      <td>[https://images-na.ssl-images-amazon.com/image...</td>\n",
       "    </tr>\n",
       "    <tr>\n",
       "      <th>12297</th>\n",
       "      <td>[]</td>\n",
       "      <td></td>\n",
       "      <td>[The I AM JUICY COUTURE girl is once again tak...</td>\n",
       "      <td></td>\n",
       "      <td>Juicy Couture I Love Juicy Couture, 1.7 fl. Oz...</td>\n",
       "      <td>[]</td>\n",
       "      <td></td>\n",
       "      <td></td>\n",
       "      <td>[]</td>\n",
       "      <td>490,755 in Beauty &amp; Personal Care (</td>\n",
       "      <td>[B0757439SY, B01HJ2UY1G, B01KX3TK7C, B01LX71LJ...</td>\n",
       "      <td>{'\n",
       "    Product Dimensions: \n",
       "    ': '3.3 x 2.7 ...</td>\n",
       "      <td>Luxury Beauty</td>\n",
       "      <td></td>\n",
       "      <td>NaT</td>\n",
       "      <td>$76.00</td>\n",
       "      <td>B01HJ2UY0W</td>\n",
       "      <td>[https://images-na.ssl-images-amazon.com/image...</td>\n",
       "      <td>[https://images-na.ssl-images-amazon.com/image...</td>\n",
       "    </tr>\n",
       "    <tr>\n",
       "      <th>12298</th>\n",
       "      <td>[]</td>\n",
       "      <td></td>\n",
       "      <td>[I Love Juicy Couture Eau De Parfum Spray 3.4 ...</td>\n",
       "      <td></td>\n",
       "      <td>Juicy Couture I Love Juicy Couture, 3.4 fl. Oz...</td>\n",
       "      <td>[B071NZZW3K]</td>\n",
       "      <td></td>\n",
       "      <td></td>\n",
       "      <td>[]</td>\n",
       "      <td>181,383 in Beauty &amp; Personal Care (</td>\n",
       "      <td>[B0757439SY, B01LX71LJV, B01HJ2UY0W, B07GBSC3L...</td>\n",
       "      <td>{'\n",
       "    Product Dimensions: \n",
       "    ': '3.3 x 3.2 ...</td>\n",
       "      <td>Luxury Beauty</td>\n",
       "      <td></td>\n",
       "      <td>NaT</td>\n",
       "      <td>$96.00</td>\n",
       "      <td>B01HJ2UY1G</td>\n",
       "      <td>[https://images-na.ssl-images-amazon.com/image...</td>\n",
       "      <td>[https://images-na.ssl-images-amazon.com/image...</td>\n",
       "    </tr>\n",
       "  </tbody>\n",
       "</table>\n",
       "<p>12299 rows × 19 columns</p>\n",
       "</div>"
      ],
      "text/plain": [
       "      category tech1                                        description fit  \\\n",
       "0           []        [After a long day of handling thorny situation...       \n",
       "1           []        [If you haven't experienced the pleasures of b...       \n",
       "2           []        [Rich, black mineral mud, harvested from the b...       \n",
       "3           []        [This liquid soap with convenient pump dispens...       \n",
       "4           []        [Remember why you love your favorite blanket? ...       \n",
       "...        ...   ...                                                ...  ..   \n",
       "12294       []        [, CND Craft Culture Collection: Patina Buckle...       \n",
       "12295       []        [CND Shellac was designed to be used as a syst...       \n",
       "12296       []        [CND Shellac was designed to be used as a syst...       \n",
       "12297       []        [The I AM JUICY COUTURE girl is once again tak...       \n",
       "12298       []        [I Love Juicy Couture Eau De Parfum Spray 3.4 ...       \n",
       "\n",
       "                                                   title  \\\n",
       "0      Crabtree &amp; Evelyn - Gardener's Ultra-Moist...   \n",
       "1                                       AHAVA Bath Salts   \n",
       "2          AHAVA Dead Sea Mineral Mud, 8.5 oz, Pack of 4   \n",
       "3      Crabtree &amp; Evelyn Hand Soap, Gardeners, 10...   \n",
       "4                                     Soy Milk Hand Crme   \n",
       "...                                                  ...   \n",
       "12294            CND Shellac Power Polish, Patina Buckle   \n",
       "12295               CND Shellac power polish denim patch   \n",
       "12296                       CND Shellac, Leather Satchel   \n",
       "12297  Juicy Couture I Love Juicy Couture, 1.7 fl. Oz...   \n",
       "12298  Juicy Couture I Love Juicy Couture, 3.4 fl. Oz...   \n",
       "\n",
       "                                                also_buy tech2 brand feature  \\\n",
       "0      [B00GHX7H0A, B00FRERO7G, B00R68QXCS, B000Z65AZ...                  []   \n",
       "1                                                     []                  []   \n",
       "2                                                     []                  []   \n",
       "3                                                     []                  []   \n",
       "4      [B000NZT6KM, B001BY229Q, B008J724QY, B0009YGKJ...                  []   \n",
       "...                                                  ...   ...   ...     ...   \n",
       "12294  [B003ONLAXQ, B00YDEZ9T6, B074KHRD13, B00R3PZK1...                  []   \n",
       "12295  [B003ONLAXQ, B003OH0KBA, B004LEMWGG, B01MT91G4...                  []   \n",
       "12296  [B003ONLAXQ, B003OH0KBA, B004LEMWGG, B01MT91G4...                  []   \n",
       "12297                                                 []                  []   \n",
       "12298                                       [B071NZZW3K]                  []   \n",
       "\n",
       "                                            rank  \\\n",
       "0              4,324 in Beauty & Personal Care (   \n",
       "1          1,633,549 in Beauty & Personal Care (   \n",
       "2      1,806,710 in Beauty &amp; Personal Care (   \n",
       "3                                             []   \n",
       "4         42,464 in Beauty &amp; Personal Care (   \n",
       "...                                          ...   \n",
       "12294         88,740 in Beauty & Personal Care (   \n",
       "12295        122,331 in Beauty & Personal Care (   \n",
       "12296        168,028 in Beauty & Personal Care (   \n",
       "12297        490,755 in Beauty & Personal Care (   \n",
       "12298        181,383 in Beauty & Personal Care (   \n",
       "\n",
       "                                               also_view  \\\n",
       "0      [B00FRERO7G, B00GHX7H0A, B07GFHJRMX, B00TJ3NBN...   \n",
       "1                                                     []   \n",
       "2                                                     []   \n",
       "3      [B00004U9V2, B00GHX7H0A, B00FRERO7G, B00R68QXC...   \n",
       "4                                                     []   \n",
       "...                                                  ...   \n",
       "12294  [B00D2VMUA2, B074KJZJYW, B074KHRD13, B073SB9JW...   \n",
       "12295  [B00D2VMUA2, B01L0EV8X2, B004LEMWGG, B00EFGDYZ...   \n",
       "12296  [B00D2VMUA2, B01L0EV8X2, B004LEMWGG, B00EFGDYZ...   \n",
       "12297  [B0757439SY, B01HJ2UY1G, B01KX3TK7C, B01LX71LJ...   \n",
       "12298  [B0757439SY, B01LX71LJV, B01HJ2UY0W, B07GBSC3L...   \n",
       "\n",
       "                                                 details       main_cat  \\\n",
       "0      {'\n",
       "    Product Dimensions: \n",
       "    ': '2.2 x 2.2 ...  Luxury Beauty   \n",
       "1      {'\n",
       "    Product Dimensions: \n",
       "    ': '3 x 3.5 x ...  Luxury Beauty   \n",
       "2      {'\n",
       "    Product Dimensions: \n",
       "    ': '5.1 x 3 x ...  Luxury Beauty   \n",
       "3      {'\n",
       "    Product Dimensions: \n",
       "    ': '2.6 x 2.6 ...  Luxury Beauty   \n",
       "4      {'\n",
       "    Product Dimensions: \n",
       "    ': '7.2 x 2.2 ...  Luxury Beauty   \n",
       "...                                                  ...            ...   \n",
       "12294  {'\n",
       "    Item Weight: \n",
       "    ': '0.48 ounces', 'Sh...  Luxury Beauty   \n",
       "12295  {'Shipping Weight:': '1.4 ounces (', 'ASIN:': ...  Luxury Beauty   \n",
       "12296  {'Shipping Weight:': '1.4 ounces (', 'Domestic...  Luxury Beauty   \n",
       "12297  {'\n",
       "    Product Dimensions: \n",
       "    ': '3.3 x 2.7 ...  Luxury Beauty   \n",
       "12298  {'\n",
       "    Product Dimensions: \n",
       "    ': '3.3 x 3.2 ...  Luxury Beauty   \n",
       "\n",
       "      similar_item date   price        asin  \\\n",
       "0                   NaT  $30.00  B00004U9V2   \n",
       "1                   NaT          B0000531EN   \n",
       "2                   NaT          B0000532JH   \n",
       "3                   NaT  $15.99  B00005A77F   \n",
       "4                   NaT  $18.00  B00005NDTD   \n",
       "...            ...  ...     ...         ...   \n",
       "12294               NaT  $15.95  B01HIQIEYC   \n",
       "12295               NaT  $15.95  B01HIQHQU0   \n",
       "12296               NaT  $15.95  B01HIQEOLO   \n",
       "12297               NaT  $76.00  B01HJ2UY0W   \n",
       "12298               NaT  $96.00  B01HJ2UY1G   \n",
       "\n",
       "                                                imageURL  \\\n",
       "0      [https://images-na.ssl-images-amazon.com/image...   \n",
       "1                                                     []   \n",
       "2      [https://images-na.ssl-images-amazon.com/image...   \n",
       "3      [https://images-na.ssl-images-amazon.com/image...   \n",
       "4      [https://images-na.ssl-images-amazon.com/image...   \n",
       "...                                                  ...   \n",
       "12294                                                 []   \n",
       "12295                                                 []   \n",
       "12296  [https://images-na.ssl-images-amazon.com/image...   \n",
       "12297  [https://images-na.ssl-images-amazon.com/image...   \n",
       "12298  [https://images-na.ssl-images-amazon.com/image...   \n",
       "\n",
       "                                         imageURLHighRes  \n",
       "0      [https://images-na.ssl-images-amazon.com/image...  \n",
       "1                                                     []  \n",
       "2      [https://images-na.ssl-images-amazon.com/image...  \n",
       "3      [https://images-na.ssl-images-amazon.com/image...  \n",
       "4      [https://images-na.ssl-images-amazon.com/image...  \n",
       "...                                                  ...  \n",
       "12294                                                 []  \n",
       "12295                                                 []  \n",
       "12296  [https://images-na.ssl-images-amazon.com/image...  \n",
       "12297  [https://images-na.ssl-images-amazon.com/image...  \n",
       "12298  [https://images-na.ssl-images-amazon.com/image...  \n",
       "\n",
       "[12299 rows x 19 columns]"
      ]
     },
     "metadata": {},
     "output_type": "display_data"
    }
   ],
   "source": [
    "# Load review dataset and metadata\n",
    "review_df = pd.read_csv('data/Luxury_Beauty.csv', names=['asin', 'user', \\\n",
    "                                                         'rating', 'timestamp'])\n",
    "meta_df = pd.read_json('data/meta_Luxury_Beauty.json.gz', lines=True)\n",
    "display(review_df, meta_df)"
   ]
  },
  {
   "cell_type": "markdown",
   "metadata": {},
   "source": [
    "### Dropping Duplicates and Null Values\n",
    "\n",
    "We are dealing with quite a large dataset, with the number of ratings being over 570,000. Therefore, it will be important to reduce the memory as much as possible by removing unnecessary features and reducing the memory usage. Since the timestamp data is unnecessary to our analysis, we will go ahead and drop that column from our ratings dataset. We also go through an initial iteration of removing duplicates and null values.\n",
    "\n",
    "We will also write a function that displays the size of a dataframe, so that we can confirm that the transformations performed on the dataset are resulting in a reduced memory footprint."
   ]
  },
  {
   "cell_type": "code",
   "execution_count": 4,
   "metadata": {
    "ExecuteTime": {
     "end_time": "2021-06-23T18:27:31.069454Z",
     "start_time": "2021-06-23T18:27:31.064890Z"
    }
   },
   "outputs": [],
   "source": [
    "def get_df_size(df):\n",
    "    \"\"\"\n",
    "    Gets size of dataframe and prints value in MB.\n",
    "    Function inspired by James Irving.\n",
    "\n",
    "    Args:\n",
    "        df (DataFrame) : DataFrame to print size of.\n",
    "    Returns:\n",
    "        \n",
    "    \"\"\"\n",
    "    size = round((sys.getsizeof(df) * 1e-6), 2)\n",
    "    \n",
    "    print(f\"Dataframe memory usage: {size} MB.\")"
   ]
  },
  {
   "cell_type": "code",
   "execution_count": 5,
   "metadata": {
    "ExecuteTime": {
     "end_time": "2021-06-23T18:27:31.351162Z",
     "start_time": "2021-06-23T18:27:31.071561Z"
    }
   },
   "outputs": [
    {
     "data": {
      "text/html": [
       "<div>\n",
       "<style scoped>\n",
       "    .dataframe tbody tr th:only-of-type {\n",
       "        vertical-align: middle;\n",
       "    }\n",
       "\n",
       "    .dataframe tbody tr th {\n",
       "        vertical-align: top;\n",
       "    }\n",
       "\n",
       "    .dataframe thead th {\n",
       "        text-align: right;\n",
       "    }\n",
       "</style>\n",
       "<table border=\"1\" class=\"dataframe\">\n",
       "  <thead>\n",
       "    <tr style=\"text-align: right;\">\n",
       "      <th></th>\n",
       "      <th>asin</th>\n",
       "      <th>user</th>\n",
       "      <th>rating</th>\n",
       "    </tr>\n",
       "  </thead>\n",
       "  <tbody>\n",
       "    <tr>\n",
       "      <th>0</th>\n",
       "      <td>B00004U9V2</td>\n",
       "      <td>A1Q6MUU0B2ZDQG</td>\n",
       "      <td>2.0</td>\n",
       "    </tr>\n",
       "    <tr>\n",
       "      <th>1</th>\n",
       "      <td>B00004U9V2</td>\n",
       "      <td>A3HO2SQDCZIE9S</td>\n",
       "      <td>5.0</td>\n",
       "    </tr>\n",
       "    <tr>\n",
       "      <th>2</th>\n",
       "      <td>B00004U9V2</td>\n",
       "      <td>A2EM03F99X3RJZ</td>\n",
       "      <td>5.0</td>\n",
       "    </tr>\n",
       "    <tr>\n",
       "      <th>3</th>\n",
       "      <td>B00004U9V2</td>\n",
       "      <td>A3Z74TDRGD0HU</td>\n",
       "      <td>5.0</td>\n",
       "    </tr>\n",
       "    <tr>\n",
       "      <th>4</th>\n",
       "      <td>B00004U9V2</td>\n",
       "      <td>A2UXFNW9RTL4VM</td>\n",
       "      <td>5.0</td>\n",
       "    </tr>\n",
       "    <tr>\n",
       "      <th>...</th>\n",
       "      <td>...</td>\n",
       "      <td>...</td>\n",
       "      <td>...</td>\n",
       "    </tr>\n",
       "    <tr>\n",
       "      <th>574623</th>\n",
       "      <td>B01HIQEOLO</td>\n",
       "      <td>AHYJ78MVF4UQO</td>\n",
       "      <td>5.0</td>\n",
       "    </tr>\n",
       "    <tr>\n",
       "      <th>574624</th>\n",
       "      <td>B01HIQEOLO</td>\n",
       "      <td>A1L2RT7KBNK02K</td>\n",
       "      <td>5.0</td>\n",
       "    </tr>\n",
       "    <tr>\n",
       "      <th>574625</th>\n",
       "      <td>B01HIQEOLO</td>\n",
       "      <td>A36MLXQX9WPPW9</td>\n",
       "      <td>5.0</td>\n",
       "    </tr>\n",
       "    <tr>\n",
       "      <th>574626</th>\n",
       "      <td>B01HJ2UY0W</td>\n",
       "      <td>A23DRCOMC2RIXF</td>\n",
       "      <td>1.0</td>\n",
       "    </tr>\n",
       "    <tr>\n",
       "      <th>574627</th>\n",
       "      <td>B01HJ2UY1G</td>\n",
       "      <td>AJEDVHTLS9P3V</td>\n",
       "      <td>5.0</td>\n",
       "    </tr>\n",
       "  </tbody>\n",
       "</table>\n",
       "<p>538082 rows × 3 columns</p>\n",
       "</div>"
      ],
      "text/plain": [
       "              asin            user  rating\n",
       "0       B00004U9V2  A1Q6MUU0B2ZDQG     2.0\n",
       "1       B00004U9V2  A3HO2SQDCZIE9S     5.0\n",
       "2       B00004U9V2  A2EM03F99X3RJZ     5.0\n",
       "3       B00004U9V2   A3Z74TDRGD0HU     5.0\n",
       "4       B00004U9V2  A2UXFNW9RTL4VM     5.0\n",
       "...            ...             ...     ...\n",
       "574623  B01HIQEOLO   AHYJ78MVF4UQO     5.0\n",
       "574624  B01HIQEOLO  A1L2RT7KBNK02K     5.0\n",
       "574625  B01HIQEOLO  A36MLXQX9WPPW9     5.0\n",
       "574626  B01HJ2UY0W  A23DRCOMC2RIXF     1.0\n",
       "574627  B01HJ2UY1G   AJEDVHTLS9P3V     5.0\n",
       "\n",
       "[538082 rows x 3 columns]"
      ]
     },
     "execution_count": 5,
     "metadata": {},
     "output_type": "execute_result"
    }
   ],
   "source": [
    "# Drop duplicates and timestamp column from review table\n",
    "review_df.drop_duplicates(inplace=True)\n",
    "review_df.drop('timestamp', axis=1, inplace=True)\n",
    "review_df"
   ]
  },
  {
   "cell_type": "code",
   "execution_count": 6,
   "metadata": {
    "ExecuteTime": {
     "end_time": "2021-06-23T18:27:31.474575Z",
     "start_time": "2021-06-23T18:27:31.353539Z"
    }
   },
   "outputs": [
    {
     "name": "stdout",
     "output_type": "stream",
     "text": [
      "Dataframe memory usage: 82.72 MB.\n"
     ]
    }
   ],
   "source": [
    "# Print size of original ratings df\n",
    "get_df_size(review_df)"
   ]
  },
  {
   "cell_type": "markdown",
   "metadata": {},
   "source": [
    "Similarly with our metadata, we will go ahead and slice out the ASIN code and product names, since those are the pieces of data that will be used in our analysis. Then, we go on to drop duplicates from this table as well."
   ]
  },
  {
   "cell_type": "code",
   "execution_count": 7,
   "metadata": {
    "ExecuteTime": {
     "end_time": "2021-06-23T18:27:31.526223Z",
     "start_time": "2021-06-23T18:27:31.478255Z"
    }
   },
   "outputs": [],
   "source": [
    "# Slice asin and title columns from metadata table\n",
    "meta_df = meta_df[['asin','title']]"
   ]
  },
  {
   "cell_type": "code",
   "execution_count": 8,
   "metadata": {
    "ExecuteTime": {
     "end_time": "2021-06-23T18:27:31.554025Z",
     "start_time": "2021-06-23T18:27:31.530194Z"
    }
   },
   "outputs": [
    {
     "data": {
      "text/html": [
       "<div>\n",
       "<style scoped>\n",
       "    .dataframe tbody tr th:only-of-type {\n",
       "        vertical-align: middle;\n",
       "    }\n",
       "\n",
       "    .dataframe tbody tr th {\n",
       "        vertical-align: top;\n",
       "    }\n",
       "\n",
       "    .dataframe thead th {\n",
       "        text-align: right;\n",
       "    }\n",
       "</style>\n",
       "<table border=\"1\" class=\"dataframe\">\n",
       "  <thead>\n",
       "    <tr style=\"text-align: right;\">\n",
       "      <th></th>\n",
       "      <th>asin</th>\n",
       "      <th>title</th>\n",
       "    </tr>\n",
       "  </thead>\n",
       "  <tbody>\n",
       "    <tr>\n",
       "      <th>0</th>\n",
       "      <td>B00004U9V2</td>\n",
       "      <td>Crabtree &amp;amp; Evelyn - Gardener's Ultra-Moist...</td>\n",
       "    </tr>\n",
       "    <tr>\n",
       "      <th>1</th>\n",
       "      <td>B0000531EN</td>\n",
       "      <td>AHAVA Bath Salts</td>\n",
       "    </tr>\n",
       "    <tr>\n",
       "      <th>2</th>\n",
       "      <td>B0000532JH</td>\n",
       "      <td>AHAVA Dead Sea Mineral Mud, 8.5 oz, Pack of 4</td>\n",
       "    </tr>\n",
       "    <tr>\n",
       "      <th>3</th>\n",
       "      <td>B00005A77F</td>\n",
       "      <td>Crabtree &amp;amp; Evelyn Hand Soap, Gardeners, 10...</td>\n",
       "    </tr>\n",
       "    <tr>\n",
       "      <th>4</th>\n",
       "      <td>B00005NDTD</td>\n",
       "      <td>Soy Milk Hand Crme</td>\n",
       "    </tr>\n",
       "    <tr>\n",
       "      <th>...</th>\n",
       "      <td>...</td>\n",
       "      <td>...</td>\n",
       "    </tr>\n",
       "    <tr>\n",
       "      <th>12294</th>\n",
       "      <td>B01HIQIEYC</td>\n",
       "      <td>CND Shellac Power Polish, Patina Buckle</td>\n",
       "    </tr>\n",
       "    <tr>\n",
       "      <th>12295</th>\n",
       "      <td>B01HIQHQU0</td>\n",
       "      <td>CND Shellac power polish denim patch</td>\n",
       "    </tr>\n",
       "    <tr>\n",
       "      <th>12296</th>\n",
       "      <td>B01HIQEOLO</td>\n",
       "      <td>CND Shellac, Leather Satchel</td>\n",
       "    </tr>\n",
       "    <tr>\n",
       "      <th>12297</th>\n",
       "      <td>B01HJ2UY0W</td>\n",
       "      <td>Juicy Couture I Love Juicy Couture, 1.7 fl. Oz...</td>\n",
       "    </tr>\n",
       "    <tr>\n",
       "      <th>12298</th>\n",
       "      <td>B01HJ2UY1G</td>\n",
       "      <td>Juicy Couture I Love Juicy Couture, 3.4 fl. Oz...</td>\n",
       "    </tr>\n",
       "  </tbody>\n",
       "</table>\n",
       "<p>12111 rows × 2 columns</p>\n",
       "</div>"
      ],
      "text/plain": [
       "             asin                                              title\n",
       "0      B00004U9V2  Crabtree &amp; Evelyn - Gardener's Ultra-Moist...\n",
       "1      B0000531EN                                   AHAVA Bath Salts\n",
       "2      B0000532JH      AHAVA Dead Sea Mineral Mud, 8.5 oz, Pack of 4\n",
       "3      B00005A77F  Crabtree &amp; Evelyn Hand Soap, Gardeners, 10...\n",
       "4      B00005NDTD                                 Soy Milk Hand Crme\n",
       "...           ...                                                ...\n",
       "12294  B01HIQIEYC            CND Shellac Power Polish, Patina Buckle\n",
       "12295  B01HIQHQU0               CND Shellac power polish denim patch\n",
       "12296  B01HIQEOLO                       CND Shellac, Leather Satchel\n",
       "12297  B01HJ2UY0W  Juicy Couture I Love Juicy Couture, 1.7 fl. Oz...\n",
       "12298  B01HJ2UY1G  Juicy Couture I Love Juicy Couture, 3.4 fl. Oz...\n",
       "\n",
       "[12111 rows x 2 columns]"
      ]
     },
     "execution_count": 8,
     "metadata": {},
     "output_type": "execute_result"
    }
   ],
   "source": [
    "# Drop duplicates from metadata table\n",
    "meta_df.drop_duplicates(inplace=True)\n",
    "meta_df"
   ]
  },
  {
   "cell_type": "markdown",
   "metadata": {},
   "source": [
    "### Merging Data Tables\n",
    "\n",
    "Now, we will create a catalog_df which contains all of our ratings combined with their titles. This dataframe contains all of the information we will need for the purpose of our analysis. Let's also keep note of the size of our original catalog_df before we make transformations to reduce the memory allocation, and after dropping any duplicated or null values."
   ]
  },
  {
   "cell_type": "code",
   "execution_count": 9,
   "metadata": {
    "ExecuteTime": {
     "end_time": "2021-06-23T18:27:31.675793Z",
     "start_time": "2021-06-23T18:27:31.556160Z"
    }
   },
   "outputs": [
    {
     "data": {
      "text/html": [
       "<div>\n",
       "<style scoped>\n",
       "    .dataframe tbody tr th:only-of-type {\n",
       "        vertical-align: middle;\n",
       "    }\n",
       "\n",
       "    .dataframe tbody tr th {\n",
       "        vertical-align: top;\n",
       "    }\n",
       "\n",
       "    .dataframe thead th {\n",
       "        text-align: right;\n",
       "    }\n",
       "</style>\n",
       "<table border=\"1\" class=\"dataframe\">\n",
       "  <thead>\n",
       "    <tr style=\"text-align: right;\">\n",
       "      <th></th>\n",
       "      <th>asin</th>\n",
       "      <th>user</th>\n",
       "      <th>rating</th>\n",
       "      <th>title</th>\n",
       "    </tr>\n",
       "  </thead>\n",
       "  <tbody>\n",
       "    <tr>\n",
       "      <th>0</th>\n",
       "      <td>B00004U9V2</td>\n",
       "      <td>A1Q6MUU0B2ZDQG</td>\n",
       "      <td>2.0</td>\n",
       "      <td>Crabtree &amp;amp; Evelyn - Gardener's Ultra-Moist...</td>\n",
       "    </tr>\n",
       "    <tr>\n",
       "      <th>1</th>\n",
       "      <td>B00004U9V2</td>\n",
       "      <td>A3HO2SQDCZIE9S</td>\n",
       "      <td>5.0</td>\n",
       "      <td>Crabtree &amp;amp; Evelyn - Gardener's Ultra-Moist...</td>\n",
       "    </tr>\n",
       "    <tr>\n",
       "      <th>2</th>\n",
       "      <td>B00004U9V2</td>\n",
       "      <td>A2EM03F99X3RJZ</td>\n",
       "      <td>5.0</td>\n",
       "      <td>Crabtree &amp;amp; Evelyn - Gardener's Ultra-Moist...</td>\n",
       "    </tr>\n",
       "    <tr>\n",
       "      <th>3</th>\n",
       "      <td>B00004U9V2</td>\n",
       "      <td>A3Z74TDRGD0HU</td>\n",
       "      <td>5.0</td>\n",
       "      <td>Crabtree &amp;amp; Evelyn - Gardener's Ultra-Moist...</td>\n",
       "    </tr>\n",
       "    <tr>\n",
       "      <th>4</th>\n",
       "      <td>B00004U9V2</td>\n",
       "      <td>A2UXFNW9RTL4VM</td>\n",
       "      <td>5.0</td>\n",
       "      <td>Crabtree &amp;amp; Evelyn - Gardener's Ultra-Moist...</td>\n",
       "    </tr>\n",
       "    <tr>\n",
       "      <th>...</th>\n",
       "      <td>...</td>\n",
       "      <td>...</td>\n",
       "      <td>...</td>\n",
       "      <td>...</td>\n",
       "    </tr>\n",
       "    <tr>\n",
       "      <th>538077</th>\n",
       "      <td>B01HIQEOLO</td>\n",
       "      <td>AHYJ78MVF4UQO</td>\n",
       "      <td>5.0</td>\n",
       "      <td>CND Shellac, Leather Satchel</td>\n",
       "    </tr>\n",
       "    <tr>\n",
       "      <th>538078</th>\n",
       "      <td>B01HIQEOLO</td>\n",
       "      <td>A1L2RT7KBNK02K</td>\n",
       "      <td>5.0</td>\n",
       "      <td>CND Shellac, Leather Satchel</td>\n",
       "    </tr>\n",
       "    <tr>\n",
       "      <th>538079</th>\n",
       "      <td>B01HIQEOLO</td>\n",
       "      <td>A36MLXQX9WPPW9</td>\n",
       "      <td>5.0</td>\n",
       "      <td>CND Shellac, Leather Satchel</td>\n",
       "    </tr>\n",
       "    <tr>\n",
       "      <th>538080</th>\n",
       "      <td>B01HJ2UY0W</td>\n",
       "      <td>A23DRCOMC2RIXF</td>\n",
       "      <td>1.0</td>\n",
       "      <td>Juicy Couture I Love Juicy Couture, 1.7 fl. Oz...</td>\n",
       "    </tr>\n",
       "    <tr>\n",
       "      <th>538081</th>\n",
       "      <td>B01HJ2UY1G</td>\n",
       "      <td>AJEDVHTLS9P3V</td>\n",
       "      <td>5.0</td>\n",
       "      <td>Juicy Couture I Love Juicy Couture, 3.4 fl. Oz...</td>\n",
       "    </tr>\n",
       "  </tbody>\n",
       "</table>\n",
       "<p>538082 rows × 4 columns</p>\n",
       "</div>"
      ],
      "text/plain": [
       "              asin            user  rating  \\\n",
       "0       B00004U9V2  A1Q6MUU0B2ZDQG     2.0   \n",
       "1       B00004U9V2  A3HO2SQDCZIE9S     5.0   \n",
       "2       B00004U9V2  A2EM03F99X3RJZ     5.0   \n",
       "3       B00004U9V2   A3Z74TDRGD0HU     5.0   \n",
       "4       B00004U9V2  A2UXFNW9RTL4VM     5.0   \n",
       "...            ...             ...     ...   \n",
       "538077  B01HIQEOLO   AHYJ78MVF4UQO     5.0   \n",
       "538078  B01HIQEOLO  A1L2RT7KBNK02K     5.0   \n",
       "538079  B01HIQEOLO  A36MLXQX9WPPW9     5.0   \n",
       "538080  B01HJ2UY0W  A23DRCOMC2RIXF     1.0   \n",
       "538081  B01HJ2UY1G   AJEDVHTLS9P3V     5.0   \n",
       "\n",
       "                                                    title  \n",
       "0       Crabtree &amp; Evelyn - Gardener's Ultra-Moist...  \n",
       "1       Crabtree &amp; Evelyn - Gardener's Ultra-Moist...  \n",
       "2       Crabtree &amp; Evelyn - Gardener's Ultra-Moist...  \n",
       "3       Crabtree &amp; Evelyn - Gardener's Ultra-Moist...  \n",
       "4       Crabtree &amp; Evelyn - Gardener's Ultra-Moist...  \n",
       "...                                                   ...  \n",
       "538077                       CND Shellac, Leather Satchel  \n",
       "538078                       CND Shellac, Leather Satchel  \n",
       "538079                       CND Shellac, Leather Satchel  \n",
       "538080  Juicy Couture I Love Juicy Couture, 1.7 fl. Oz...  \n",
       "538081  Juicy Couture I Love Juicy Couture, 3.4 fl. Oz...  \n",
       "\n",
       "[538082 rows x 4 columns]"
      ]
     },
     "execution_count": 9,
     "metadata": {},
     "output_type": "execute_result"
    }
   ],
   "source": [
    "# Combine review data and metadata to create catalog table\n",
    "catalog_df = review_df.merge(meta_df, how='left', on='asin')\n",
    "catalog_df"
   ]
  },
  {
   "cell_type": "code",
   "execution_count": 10,
   "metadata": {
    "ExecuteTime": {
     "end_time": "2021-06-23T18:27:31.998441Z",
     "start_time": "2021-06-23T18:27:31.678896Z"
    }
   },
   "outputs": [
    {
     "data": {
      "text/html": [
       "<div>\n",
       "<style scoped>\n",
       "    .dataframe tbody tr th:only-of-type {\n",
       "        vertical-align: middle;\n",
       "    }\n",
       "\n",
       "    .dataframe tbody tr th {\n",
       "        vertical-align: top;\n",
       "    }\n",
       "\n",
       "    .dataframe thead th {\n",
       "        text-align: right;\n",
       "    }\n",
       "</style>\n",
       "<table border=\"1\" class=\"dataframe\">\n",
       "  <thead>\n",
       "    <tr style=\"text-align: right;\">\n",
       "      <th></th>\n",
       "      <th>asin</th>\n",
       "      <th>user</th>\n",
       "      <th>rating</th>\n",
       "      <th>title</th>\n",
       "    </tr>\n",
       "  </thead>\n",
       "  <tbody>\n",
       "    <tr>\n",
       "      <th>0</th>\n",
       "      <td>B00004U9V2</td>\n",
       "      <td>A1Q6MUU0B2ZDQG</td>\n",
       "      <td>2.0</td>\n",
       "      <td>Crabtree &amp;amp; Evelyn - Gardener's Ultra-Moist...</td>\n",
       "    </tr>\n",
       "    <tr>\n",
       "      <th>1</th>\n",
       "      <td>B00004U9V2</td>\n",
       "      <td>A3HO2SQDCZIE9S</td>\n",
       "      <td>5.0</td>\n",
       "      <td>Crabtree &amp;amp; Evelyn - Gardener's Ultra-Moist...</td>\n",
       "    </tr>\n",
       "    <tr>\n",
       "      <th>2</th>\n",
       "      <td>B00004U9V2</td>\n",
       "      <td>A2EM03F99X3RJZ</td>\n",
       "      <td>5.0</td>\n",
       "      <td>Crabtree &amp;amp; Evelyn - Gardener's Ultra-Moist...</td>\n",
       "    </tr>\n",
       "    <tr>\n",
       "      <th>3</th>\n",
       "      <td>B00004U9V2</td>\n",
       "      <td>A3Z74TDRGD0HU</td>\n",
       "      <td>5.0</td>\n",
       "      <td>Crabtree &amp;amp; Evelyn - Gardener's Ultra-Moist...</td>\n",
       "    </tr>\n",
       "    <tr>\n",
       "      <th>4</th>\n",
       "      <td>B00004U9V2</td>\n",
       "      <td>A2UXFNW9RTL4VM</td>\n",
       "      <td>5.0</td>\n",
       "      <td>Crabtree &amp;amp; Evelyn - Gardener's Ultra-Moist...</td>\n",
       "    </tr>\n",
       "    <tr>\n",
       "      <th>...</th>\n",
       "      <td>...</td>\n",
       "      <td>...</td>\n",
       "      <td>...</td>\n",
       "      <td>...</td>\n",
       "    </tr>\n",
       "    <tr>\n",
       "      <th>538077</th>\n",
       "      <td>B01HIQEOLO</td>\n",
       "      <td>AHYJ78MVF4UQO</td>\n",
       "      <td>5.0</td>\n",
       "      <td>CND Shellac, Leather Satchel</td>\n",
       "    </tr>\n",
       "    <tr>\n",
       "      <th>538078</th>\n",
       "      <td>B01HIQEOLO</td>\n",
       "      <td>A1L2RT7KBNK02K</td>\n",
       "      <td>5.0</td>\n",
       "      <td>CND Shellac, Leather Satchel</td>\n",
       "    </tr>\n",
       "    <tr>\n",
       "      <th>538079</th>\n",
       "      <td>B01HIQEOLO</td>\n",
       "      <td>A36MLXQX9WPPW9</td>\n",
       "      <td>5.0</td>\n",
       "      <td>CND Shellac, Leather Satchel</td>\n",
       "    </tr>\n",
       "    <tr>\n",
       "      <th>538080</th>\n",
       "      <td>B01HJ2UY0W</td>\n",
       "      <td>A23DRCOMC2RIXF</td>\n",
       "      <td>1.0</td>\n",
       "      <td>Juicy Couture I Love Juicy Couture, 1.7 fl. Oz...</td>\n",
       "    </tr>\n",
       "    <tr>\n",
       "      <th>538081</th>\n",
       "      <td>B01HJ2UY1G</td>\n",
       "      <td>AJEDVHTLS9P3V</td>\n",
       "      <td>5.0</td>\n",
       "      <td>Juicy Couture I Love Juicy Couture, 3.4 fl. Oz...</td>\n",
       "    </tr>\n",
       "  </tbody>\n",
       "</table>\n",
       "<p>536295 rows × 4 columns</p>\n",
       "</div>"
      ],
      "text/plain": [
       "              asin            user  rating  \\\n",
       "0       B00004U9V2  A1Q6MUU0B2ZDQG     2.0   \n",
       "1       B00004U9V2  A3HO2SQDCZIE9S     5.0   \n",
       "2       B00004U9V2  A2EM03F99X3RJZ     5.0   \n",
       "3       B00004U9V2   A3Z74TDRGD0HU     5.0   \n",
       "4       B00004U9V2  A2UXFNW9RTL4VM     5.0   \n",
       "...            ...             ...     ...   \n",
       "538077  B01HIQEOLO   AHYJ78MVF4UQO     5.0   \n",
       "538078  B01HIQEOLO  A1L2RT7KBNK02K     5.0   \n",
       "538079  B01HIQEOLO  A36MLXQX9WPPW9     5.0   \n",
       "538080  B01HJ2UY0W  A23DRCOMC2RIXF     1.0   \n",
       "538081  B01HJ2UY1G   AJEDVHTLS9P3V     5.0   \n",
       "\n",
       "                                                    title  \n",
       "0       Crabtree &amp; Evelyn - Gardener's Ultra-Moist...  \n",
       "1       Crabtree &amp; Evelyn - Gardener's Ultra-Moist...  \n",
       "2       Crabtree &amp; Evelyn - Gardener's Ultra-Moist...  \n",
       "3       Crabtree &amp; Evelyn - Gardener's Ultra-Moist...  \n",
       "4       Crabtree &amp; Evelyn - Gardener's Ultra-Moist...  \n",
       "...                                                   ...  \n",
       "538077                       CND Shellac, Leather Satchel  \n",
       "538078                       CND Shellac, Leather Satchel  \n",
       "538079                       CND Shellac, Leather Satchel  \n",
       "538080  Juicy Couture I Love Juicy Couture, 1.7 fl. Oz...  \n",
       "538081  Juicy Couture I Love Juicy Couture, 3.4 fl. Oz...  \n",
       "\n",
       "[536295 rows x 4 columns]"
      ]
     },
     "execution_count": 10,
     "metadata": {},
     "output_type": "execute_result"
    }
   ],
   "source": [
    "# Drop duplicates from merged catalog table\n",
    "catalog_df.drop_duplicates(inplace=True)\n",
    "catalog_df"
   ]
  },
  {
   "cell_type": "code",
   "execution_count": 11,
   "metadata": {
    "ExecuteTime": {
     "end_time": "2021-06-23T18:27:32.069726Z",
     "start_time": "2021-06-23T18:27:32.000480Z"
    },
    "id": "dlXM_UMA1zfo"
   },
   "outputs": [
    {
     "data": {
      "text/plain": [
       "asin        0\n",
       "user        0\n",
       "rating      0\n",
       "title     184\n",
       "dtype: int64"
      ]
     },
     "execution_count": 11,
     "metadata": {},
     "output_type": "execute_result"
    }
   ],
   "source": [
    "# Check for null values\n",
    "catalog_df.isna().sum()"
   ]
  },
  {
   "cell_type": "markdown",
   "metadata": {},
   "source": [
    "Since the number of null values in this catalog dataframe are quite small, we can go ahead and remove the observations where we do not have a product name paired with its ASIN code."
   ]
  },
  {
   "cell_type": "code",
   "execution_count": 12,
   "metadata": {
    "ExecuteTime": {
     "end_time": "2021-06-23T18:27:32.171695Z",
     "start_time": "2021-06-23T18:27:32.071393Z"
    }
   },
   "outputs": [
    {
     "data": {
      "text/html": [
       "<div>\n",
       "<style scoped>\n",
       "    .dataframe tbody tr th:only-of-type {\n",
       "        vertical-align: middle;\n",
       "    }\n",
       "\n",
       "    .dataframe tbody tr th {\n",
       "        vertical-align: top;\n",
       "    }\n",
       "\n",
       "    .dataframe thead th {\n",
       "        text-align: right;\n",
       "    }\n",
       "</style>\n",
       "<table border=\"1\" class=\"dataframe\">\n",
       "  <thead>\n",
       "    <tr style=\"text-align: right;\">\n",
       "      <th></th>\n",
       "      <th>asin</th>\n",
       "      <th>user</th>\n",
       "      <th>rating</th>\n",
       "      <th>title</th>\n",
       "    </tr>\n",
       "  </thead>\n",
       "  <tbody>\n",
       "    <tr>\n",
       "      <th>0</th>\n",
       "      <td>B00004U9V2</td>\n",
       "      <td>A1Q6MUU0B2ZDQG</td>\n",
       "      <td>2.0</td>\n",
       "      <td>Crabtree &amp;amp; Evelyn - Gardener's Ultra-Moist...</td>\n",
       "    </tr>\n",
       "    <tr>\n",
       "      <th>1</th>\n",
       "      <td>B00004U9V2</td>\n",
       "      <td>A3HO2SQDCZIE9S</td>\n",
       "      <td>5.0</td>\n",
       "      <td>Crabtree &amp;amp; Evelyn - Gardener's Ultra-Moist...</td>\n",
       "    </tr>\n",
       "    <tr>\n",
       "      <th>2</th>\n",
       "      <td>B00004U9V2</td>\n",
       "      <td>A2EM03F99X3RJZ</td>\n",
       "      <td>5.0</td>\n",
       "      <td>Crabtree &amp;amp; Evelyn - Gardener's Ultra-Moist...</td>\n",
       "    </tr>\n",
       "    <tr>\n",
       "      <th>3</th>\n",
       "      <td>B00004U9V2</td>\n",
       "      <td>A3Z74TDRGD0HU</td>\n",
       "      <td>5.0</td>\n",
       "      <td>Crabtree &amp;amp; Evelyn - Gardener's Ultra-Moist...</td>\n",
       "    </tr>\n",
       "    <tr>\n",
       "      <th>4</th>\n",
       "      <td>B00004U9V2</td>\n",
       "      <td>A2UXFNW9RTL4VM</td>\n",
       "      <td>5.0</td>\n",
       "      <td>Crabtree &amp;amp; Evelyn - Gardener's Ultra-Moist...</td>\n",
       "    </tr>\n",
       "    <tr>\n",
       "      <th>...</th>\n",
       "      <td>...</td>\n",
       "      <td>...</td>\n",
       "      <td>...</td>\n",
       "      <td>...</td>\n",
       "    </tr>\n",
       "    <tr>\n",
       "      <th>538077</th>\n",
       "      <td>B01HIQEOLO</td>\n",
       "      <td>AHYJ78MVF4UQO</td>\n",
       "      <td>5.0</td>\n",
       "      <td>CND Shellac, Leather Satchel</td>\n",
       "    </tr>\n",
       "    <tr>\n",
       "      <th>538078</th>\n",
       "      <td>B01HIQEOLO</td>\n",
       "      <td>A1L2RT7KBNK02K</td>\n",
       "      <td>5.0</td>\n",
       "      <td>CND Shellac, Leather Satchel</td>\n",
       "    </tr>\n",
       "    <tr>\n",
       "      <th>538079</th>\n",
       "      <td>B01HIQEOLO</td>\n",
       "      <td>A36MLXQX9WPPW9</td>\n",
       "      <td>5.0</td>\n",
       "      <td>CND Shellac, Leather Satchel</td>\n",
       "    </tr>\n",
       "    <tr>\n",
       "      <th>538080</th>\n",
       "      <td>B01HJ2UY0W</td>\n",
       "      <td>A23DRCOMC2RIXF</td>\n",
       "      <td>1.0</td>\n",
       "      <td>Juicy Couture I Love Juicy Couture, 1.7 fl. Oz...</td>\n",
       "    </tr>\n",
       "    <tr>\n",
       "      <th>538081</th>\n",
       "      <td>B01HJ2UY1G</td>\n",
       "      <td>AJEDVHTLS9P3V</td>\n",
       "      <td>5.0</td>\n",
       "      <td>Juicy Couture I Love Juicy Couture, 3.4 fl. Oz...</td>\n",
       "    </tr>\n",
       "  </tbody>\n",
       "</table>\n",
       "<p>536111 rows × 4 columns</p>\n",
       "</div>"
      ],
      "text/plain": [
       "              asin            user  rating  \\\n",
       "0       B00004U9V2  A1Q6MUU0B2ZDQG     2.0   \n",
       "1       B00004U9V2  A3HO2SQDCZIE9S     5.0   \n",
       "2       B00004U9V2  A2EM03F99X3RJZ     5.0   \n",
       "3       B00004U9V2   A3Z74TDRGD0HU     5.0   \n",
       "4       B00004U9V2  A2UXFNW9RTL4VM     5.0   \n",
       "...            ...             ...     ...   \n",
       "538077  B01HIQEOLO   AHYJ78MVF4UQO     5.0   \n",
       "538078  B01HIQEOLO  A1L2RT7KBNK02K     5.0   \n",
       "538079  B01HIQEOLO  A36MLXQX9WPPW9     5.0   \n",
       "538080  B01HJ2UY0W  A23DRCOMC2RIXF     1.0   \n",
       "538081  B01HJ2UY1G   AJEDVHTLS9P3V     5.0   \n",
       "\n",
       "                                                    title  \n",
       "0       Crabtree &amp; Evelyn - Gardener's Ultra-Moist...  \n",
       "1       Crabtree &amp; Evelyn - Gardener's Ultra-Moist...  \n",
       "2       Crabtree &amp; Evelyn - Gardener's Ultra-Moist...  \n",
       "3       Crabtree &amp; Evelyn - Gardener's Ultra-Moist...  \n",
       "4       Crabtree &amp; Evelyn - Gardener's Ultra-Moist...  \n",
       "...                                                   ...  \n",
       "538077                       CND Shellac, Leather Satchel  \n",
       "538078                       CND Shellac, Leather Satchel  \n",
       "538079                       CND Shellac, Leather Satchel  \n",
       "538080  Juicy Couture I Love Juicy Couture, 1.7 fl. Oz...  \n",
       "538081  Juicy Couture I Love Juicy Couture, 3.4 fl. Oz...  \n",
       "\n",
       "[536111 rows x 4 columns]"
      ]
     },
     "execution_count": 12,
     "metadata": {},
     "output_type": "execute_result"
    }
   ],
   "source": [
    "# Drop null values\n",
    "catalog_df.dropna(inplace=True)\n",
    "catalog_df"
   ]
  },
  {
   "cell_type": "code",
   "execution_count": 13,
   "metadata": {
    "ExecuteTime": {
     "end_time": "2021-06-23T18:27:32.325871Z",
     "start_time": "2021-06-23T18:27:32.174420Z"
    }
   },
   "outputs": [
    {
     "name": "stdout",
     "output_type": "stream",
     "text": [
      "Dataframe memory usage: 141.67 MB.\n"
     ]
    }
   ],
   "source": [
    "# Print size of initial catalog_df\n",
    "get_df_size(catalog_df)"
   ]
  },
  {
   "cell_type": "markdown",
   "metadata": {},
   "source": [
    "### Visualizing the Data\n",
    "\n",
    "In this section, we will proceed to visualize the distribution of our ratings as well as how many users gave how many ratings each."
   ]
  },
  {
   "cell_type": "code",
   "execution_count": 14,
   "metadata": {
    "ExecuteTime": {
     "end_time": "2021-06-23T18:27:32.340962Z",
     "start_time": "2021-06-23T18:27:32.328351Z"
    },
    "id": "-9gj06Xk1zfo"
   },
   "outputs": [
    {
     "data": {
      "text/plain": [
       "5.0    355360\n",
       "4.0     65885\n",
       "3.0     39428\n",
       "2.0     27830\n",
       "1.0     47608\n",
       "Name: rating, dtype: int64"
      ]
     },
     "execution_count": 14,
     "metadata": {},
     "output_type": "execute_result"
    }
   ],
   "source": [
    "# Check distribution of ratings\n",
    "catalog_df['rating'].value_counts().sort_index(ascending=False)"
   ]
  },
  {
   "cell_type": "code",
   "execution_count": 15,
   "metadata": {
    "ExecuteTime": {
     "end_time": "2021-06-23T18:27:32.354624Z",
     "start_time": "2021-06-23T18:27:32.342806Z"
    },
    "id": "-9gj06Xk1zfo"
   },
   "outputs": [
    {
     "data": {
      "text/plain": [
       "5.0    0.662848\n",
       "4.0    0.122894\n",
       "3.0    0.073544\n",
       "2.0    0.051911\n",
       "1.0    0.088803\n",
       "Name: rating, dtype: float64"
      ]
     },
     "execution_count": 15,
     "metadata": {},
     "output_type": "execute_result"
    }
   ],
   "source": [
    "# Check distribution of ratings in percent\n",
    "catalog_df['rating'].value_counts(normalize=True).sort_index(ascending=False)"
   ]
  },
  {
   "cell_type": "code",
   "execution_count": 16,
   "metadata": {
    "ExecuteTime": {
     "end_time": "2021-06-23T18:27:32.815722Z",
     "start_time": "2021-06-23T18:27:32.356903Z"
    }
   },
   "outputs": [
    {
     "data": {
      "image/png": "[encoded data removed]",
      "text/plain": [
       "<Figure size 720x504 with 1 Axes>"
      ]
     },
     "metadata": {},
     "output_type": "display_data"
    }
   ],
   "source": [
    "# Create bar plot of rating distribution\n",
    "fig, ax = plt.subplots(figsize=(10,7))\n",
    "\n",
    "g = sns.histplot(data=catalog_df, x='rating', hue='rating', palette='cool_r',\\\n",
    "                 discrete=True, legend=True)\n",
    "\n",
    "ax.set_title('Distribution of Ratings')\n",
    "ax.set_xlabel('Rating')\n",
    "ax.set_ylabel('Number of Reviews')\n",
    "ax.set_xticks([1,2,3,4,5])\n",
    "ax.legend(['66.3%','12.3%','7.3%','5.1%','8.9%']);"
   ]
  },
  {
   "cell_type": "code",
   "execution_count": 17,
   "metadata": {
    "ExecuteTime": {
     "end_time": "2021-06-23T18:27:33.801915Z",
     "start_time": "2021-06-23T18:27:32.818027Z"
    }
   },
   "outputs": [
    {
     "data": {
      "text/html": [
       "<div>\n",
       "<style scoped>\n",
       "    .dataframe tbody tr th:only-of-type {\n",
       "        vertical-align: middle;\n",
       "    }\n",
       "\n",
       "    .dataframe tbody tr th {\n",
       "        vertical-align: top;\n",
       "    }\n",
       "\n",
       "    .dataframe thead th {\n",
       "        text-align: right;\n",
       "    }\n",
       "</style>\n",
       "<table border=\"1\" class=\"dataframe\">\n",
       "  <thead>\n",
       "    <tr style=\"text-align: right;\">\n",
       "      <th></th>\n",
       "      <th>user</th>\n",
       "      <th>asin</th>\n",
       "      <th>rating</th>\n",
       "      <th>title</th>\n",
       "    </tr>\n",
       "  </thead>\n",
       "  <tbody>\n",
       "    <tr>\n",
       "      <th>0</th>\n",
       "      <td>A0002708WFPIPQT73GK8</td>\n",
       "      <td>1</td>\n",
       "      <td>1</td>\n",
       "      <td>1</td>\n",
       "    </tr>\n",
       "    <tr>\n",
       "      <th>1</th>\n",
       "      <td>A0010876CNE3ILIM9HV0</td>\n",
       "      <td>1</td>\n",
       "      <td>1</td>\n",
       "      <td>1</td>\n",
       "    </tr>\n",
       "    <tr>\n",
       "      <th>2</th>\n",
       "      <td>A0026756LXIAIU5P6JUI</td>\n",
       "      <td>1</td>\n",
       "      <td>1</td>\n",
       "      <td>1</td>\n",
       "    </tr>\n",
       "    <tr>\n",
       "      <th>3</th>\n",
       "      <td>A0036810AKGSUKHOLV23</td>\n",
       "      <td>1</td>\n",
       "      <td>1</td>\n",
       "      <td>1</td>\n",
       "    </tr>\n",
       "    <tr>\n",
       "      <th>4</th>\n",
       "      <td>A004163085WKABQBPDOX</td>\n",
       "      <td>1</td>\n",
       "      <td>1</td>\n",
       "      <td>1</td>\n",
       "    </tr>\n",
       "    <tr>\n",
       "      <th>...</th>\n",
       "      <td>...</td>\n",
       "      <td>...</td>\n",
       "      <td>...</td>\n",
       "      <td>...</td>\n",
       "    </tr>\n",
       "    <tr>\n",
       "      <th>416072</th>\n",
       "      <td>AZZYUA6JI1MO0</td>\n",
       "      <td>2</td>\n",
       "      <td>2</td>\n",
       "      <td>2</td>\n",
       "    </tr>\n",
       "    <tr>\n",
       "      <th>416073</th>\n",
       "      <td>AZZYW4YOE1B6E</td>\n",
       "      <td>3</td>\n",
       "      <td>3</td>\n",
       "      <td>3</td>\n",
       "    </tr>\n",
       "    <tr>\n",
       "      <th>416074</th>\n",
       "      <td>AZZZ27Q95ZU80</td>\n",
       "      <td>1</td>\n",
       "      <td>1</td>\n",
       "      <td>1</td>\n",
       "    </tr>\n",
       "    <tr>\n",
       "      <th>416075</th>\n",
       "      <td>AZZZ3LGTCGUZF</td>\n",
       "      <td>1</td>\n",
       "      <td>1</td>\n",
       "      <td>1</td>\n",
       "    </tr>\n",
       "    <tr>\n",
       "      <th>416076</th>\n",
       "      <td>AZZZYAYJQSDOJ</td>\n",
       "      <td>1</td>\n",
       "      <td>1</td>\n",
       "      <td>1</td>\n",
       "    </tr>\n",
       "  </tbody>\n",
       "</table>\n",
       "<p>416077 rows × 4 columns</p>\n",
       "</div>"
      ],
      "text/plain": [
       "                        user  asin  rating  title\n",
       "0       A0002708WFPIPQT73GK8     1       1      1\n",
       "1       A0010876CNE3ILIM9HV0     1       1      1\n",
       "2       A0026756LXIAIU5P6JUI     1       1      1\n",
       "3       A0036810AKGSUKHOLV23     1       1      1\n",
       "4       A004163085WKABQBPDOX     1       1      1\n",
       "...                      ...   ...     ...    ...\n",
       "416072         AZZYUA6JI1MO0     2       2      2\n",
       "416073         AZZYW4YOE1B6E     3       3      3\n",
       "416074         AZZZ27Q95ZU80     1       1      1\n",
       "416075         AZZZ3LGTCGUZF     1       1      1\n",
       "416076         AZZZYAYJQSDOJ     1       1      1\n",
       "\n",
       "[416077 rows x 4 columns]"
      ]
     },
     "execution_count": 17,
     "metadata": {},
     "output_type": "execute_result"
    }
   ],
   "source": [
    "# Get number of ratings per user\n",
    "freq_df = catalog_df.groupby('user').agg('count').reset_index()\n",
    "freq_df"
   ]
  },
  {
   "cell_type": "code",
   "execution_count": 18,
   "metadata": {
    "ExecuteTime": {
     "end_time": "2021-06-23T18:27:33.863084Z",
     "start_time": "2021-06-23T18:27:33.804204Z"
    }
   },
   "outputs": [
    {
     "data": {
      "text/html": [
       "<div>\n",
       "<style scoped>\n",
       "    .dataframe tbody tr th:only-of-type {\n",
       "        vertical-align: middle;\n",
       "    }\n",
       "\n",
       "    .dataframe tbody tr th {\n",
       "        vertical-align: top;\n",
       "    }\n",
       "\n",
       "    .dataframe thead th {\n",
       "        text-align: right;\n",
       "    }\n",
       "</style>\n",
       "<table border=\"1\" class=\"dataframe\">\n",
       "  <thead>\n",
       "    <tr style=\"text-align: right;\">\n",
       "      <th></th>\n",
       "      <th>asin</th>\n",
       "      <th>rating</th>\n",
       "      <th>title</th>\n",
       "    </tr>\n",
       "  </thead>\n",
       "  <tbody>\n",
       "    <tr>\n",
       "      <th>count</th>\n",
       "      <td>416077.000000</td>\n",
       "      <td>416077.000000</td>\n",
       "      <td>416077.000000</td>\n",
       "    </tr>\n",
       "    <tr>\n",
       "      <th>mean</th>\n",
       "      <td>1.288490</td>\n",
       "      <td>1.288490</td>\n",
       "      <td>1.288490</td>\n",
       "    </tr>\n",
       "    <tr>\n",
       "      <th>std</th>\n",
       "      <td>1.130142</td>\n",
       "      <td>1.130142</td>\n",
       "      <td>1.130142</td>\n",
       "    </tr>\n",
       "    <tr>\n",
       "      <th>min</th>\n",
       "      <td>1.000000</td>\n",
       "      <td>1.000000</td>\n",
       "      <td>1.000000</td>\n",
       "    </tr>\n",
       "    <tr>\n",
       "      <th>25%</th>\n",
       "      <td>1.000000</td>\n",
       "      <td>1.000000</td>\n",
       "      <td>1.000000</td>\n",
       "    </tr>\n",
       "    <tr>\n",
       "      <th>50%</th>\n",
       "      <td>1.000000</td>\n",
       "      <td>1.000000</td>\n",
       "      <td>1.000000</td>\n",
       "    </tr>\n",
       "    <tr>\n",
       "      <th>75%</th>\n",
       "      <td>1.000000</td>\n",
       "      <td>1.000000</td>\n",
       "      <td>1.000000</td>\n",
       "    </tr>\n",
       "    <tr>\n",
       "      <th>max</th>\n",
       "      <td>119.000000</td>\n",
       "      <td>119.000000</td>\n",
       "      <td>119.000000</td>\n",
       "    </tr>\n",
       "  </tbody>\n",
       "</table>\n",
       "</div>"
      ],
      "text/plain": [
       "                asin         rating          title\n",
       "count  416077.000000  416077.000000  416077.000000\n",
       "mean        1.288490       1.288490       1.288490\n",
       "std         1.130142       1.130142       1.130142\n",
       "min         1.000000       1.000000       1.000000\n",
       "25%         1.000000       1.000000       1.000000\n",
       "50%         1.000000       1.000000       1.000000\n",
       "75%         1.000000       1.000000       1.000000\n",
       "max       119.000000     119.000000     119.000000"
      ]
     },
     "execution_count": 18,
     "metadata": {},
     "output_type": "execute_result"
    }
   ],
   "source": [
    "# Inspect measures of central tendency\n",
    "freq_df.describe()"
   ]
  },
  {
   "cell_type": "code",
   "execution_count": 19,
   "metadata": {
    "ExecuteTime": {
     "end_time": "2021-06-23T18:27:33.966420Z",
     "start_time": "2021-06-23T18:27:33.865159Z"
    }
   },
   "outputs": [
    {
     "data": {
      "text/html": [
       "<div>\n",
       "<style scoped>\n",
       "    .dataframe tbody tr th:only-of-type {\n",
       "        vertical-align: middle;\n",
       "    }\n",
       "\n",
       "    .dataframe tbody tr th {\n",
       "        vertical-align: top;\n",
       "    }\n",
       "\n",
       "    .dataframe thead th {\n",
       "        text-align: right;\n",
       "    }\n",
       "</style>\n",
       "<table border=\"1\" class=\"dataframe\">\n",
       "  <thead>\n",
       "    <tr style=\"text-align: right;\">\n",
       "      <th></th>\n",
       "      <th>user</th>\n",
       "      <th>rating</th>\n",
       "      <th>title</th>\n",
       "    </tr>\n",
       "    <tr>\n",
       "      <th>asin</th>\n",
       "      <th></th>\n",
       "      <th></th>\n",
       "      <th></th>\n",
       "    </tr>\n",
       "  </thead>\n",
       "  <tbody>\n",
       "    <tr>\n",
       "      <th>1</th>\n",
       "      <td>344023</td>\n",
       "      <td>344023</td>\n",
       "      <td>344023</td>\n",
       "    </tr>\n",
       "    <tr>\n",
       "      <th>2</th>\n",
       "      <td>52115</td>\n",
       "      <td>52115</td>\n",
       "      <td>52115</td>\n",
       "    </tr>\n",
       "    <tr>\n",
       "      <th>3</th>\n",
       "      <td>11409</td>\n",
       "      <td>11409</td>\n",
       "      <td>11409</td>\n",
       "    </tr>\n",
       "    <tr>\n",
       "      <th>4</th>\n",
       "      <td>3885</td>\n",
       "      <td>3885</td>\n",
       "      <td>3885</td>\n",
       "    </tr>\n",
       "    <tr>\n",
       "      <th>5</th>\n",
       "      <td>1640</td>\n",
       "      <td>1640</td>\n",
       "      <td>1640</td>\n",
       "    </tr>\n",
       "    <tr>\n",
       "      <th>6</th>\n",
       "      <td>825</td>\n",
       "      <td>825</td>\n",
       "      <td>825</td>\n",
       "    </tr>\n",
       "    <tr>\n",
       "      <th>7</th>\n",
       "      <td>464</td>\n",
       "      <td>464</td>\n",
       "      <td>464</td>\n",
       "    </tr>\n",
       "    <tr>\n",
       "      <th>8</th>\n",
       "      <td>601</td>\n",
       "      <td>601</td>\n",
       "      <td>601</td>\n",
       "    </tr>\n",
       "    <tr>\n",
       "      <th>9</th>\n",
       "      <td>269</td>\n",
       "      <td>269</td>\n",
       "      <td>269</td>\n",
       "    </tr>\n",
       "    <tr>\n",
       "      <th>10</th>\n",
       "      <td>173</td>\n",
       "      <td>173</td>\n",
       "      <td>173</td>\n",
       "    </tr>\n",
       "  </tbody>\n",
       "</table>\n",
       "</div>"
      ],
      "text/plain": [
       "        user  rating   title\n",
       "asin                        \n",
       "1     344023  344023  344023\n",
       "2      52115   52115   52115\n",
       "3      11409   11409   11409\n",
       "4       3885    3885    3885\n",
       "5       1640    1640    1640\n",
       "6        825     825     825\n",
       "7        464     464     464\n",
       "8        601     601     601\n",
       "9        269     269     269\n",
       "10       173     173     173"
      ]
     },
     "execution_count": 19,
     "metadata": {},
     "output_type": "execute_result"
    }
   ],
   "source": [
    "# Create table with number of users vs number of ratings per user\n",
    "plot_df = freq_df.groupby('asin').agg('count')[:10]\n",
    "plot_df"
   ]
  },
  {
   "cell_type": "code",
   "execution_count": 20,
   "metadata": {
    "ExecuteTime": {
     "end_time": "2021-06-23T18:27:34.182536Z",
     "start_time": "2021-06-23T18:27:33.968916Z"
    }
   },
   "outputs": [
    {
     "data": {
      "image/png": "[encoded data removed]",
      "text/plain": [
       "<Figure size 720x504 with 1 Axes>"
      ]
     },
     "metadata": {},
     "output_type": "display_data"
    }
   ],
   "source": [
    "# Create bar plot of users per ratings given\n",
    "fig, ax = plt.subplots(figsize=(10,7))\n",
    "\n",
    "g = sns.barplot(data=plot_df, x=plot_df.index, y=plot_df['user'], \\\n",
    "                palette='cool')\n",
    "\n",
    "ax.set_title('Number of Users per Ratings Given')\n",
    "ax.set_xlabel('Ratings Given')\n",
    "ax.set_ylabel('Number of Users')\n",
    "\n",
    "for p in ax.patches:\n",
    "             ax.annotate(\"%.0f\" % p.get_height(), \\\n",
    "                         (p.get_x() + p.get_width() / 2., p.get_height()),\\\n",
    "                          ha='center', va='center', fontsize=13, \\\n",
    "                          color='black', xytext=(0, 5), \\\n",
    "                          textcoords='offset points');"
   ]
  },
  {
   "cell_type": "code",
   "execution_count": 21,
   "metadata": {
    "ExecuteTime": {
     "end_time": "2021-06-23T18:27:34.217570Z",
     "start_time": "2021-06-23T18:27:34.184508Z"
    }
   },
   "outputs": [
    {
     "data": {
      "text/html": [
       "<div>\n",
       "<style scoped>\n",
       "    .dataframe tbody tr th:only-of-type {\n",
       "        vertical-align: middle;\n",
       "    }\n",
       "\n",
       "    .dataframe tbody tr th {\n",
       "        vertical-align: top;\n",
       "    }\n",
       "\n",
       "    .dataframe thead th {\n",
       "        text-align: right;\n",
       "    }\n",
       "</style>\n",
       "<table border=\"1\" class=\"dataframe\">\n",
       "  <thead>\n",
       "    <tr style=\"text-align: right;\">\n",
       "      <th></th>\n",
       "      <th>rating</th>\n",
       "    </tr>\n",
       "  </thead>\n",
       "  <tbody>\n",
       "    <tr>\n",
       "      <th>count</th>\n",
       "      <td>536111.000000</td>\n",
       "    </tr>\n",
       "    <tr>\n",
       "      <th>mean</th>\n",
       "      <td>4.219074</td>\n",
       "    </tr>\n",
       "    <tr>\n",
       "      <th>std</th>\n",
       "      <td>1.302025</td>\n",
       "    </tr>\n",
       "    <tr>\n",
       "      <th>min</th>\n",
       "      <td>1.000000</td>\n",
       "    </tr>\n",
       "    <tr>\n",
       "      <th>25%</th>\n",
       "      <td>4.000000</td>\n",
       "    </tr>\n",
       "    <tr>\n",
       "      <th>50%</th>\n",
       "      <td>5.000000</td>\n",
       "    </tr>\n",
       "    <tr>\n",
       "      <th>75%</th>\n",
       "      <td>5.000000</td>\n",
       "    </tr>\n",
       "    <tr>\n",
       "      <th>max</th>\n",
       "      <td>5.000000</td>\n",
       "    </tr>\n",
       "  </tbody>\n",
       "</table>\n",
       "</div>"
      ],
      "text/plain": [
       "              rating\n",
       "count  536111.000000\n",
       "mean        4.219074\n",
       "std         1.302025\n",
       "min         1.000000\n",
       "25%         4.000000\n",
       "50%         5.000000\n",
       "75%         5.000000\n",
       "max         5.000000"
      ]
     },
     "execution_count": 21,
     "metadata": {},
     "output_type": "execute_result"
    }
   ],
   "source": [
    "# Check measures of central tendency\n",
    "catalog_df.describe()"
   ]
  },
  {
   "cell_type": "markdown",
   "metadata": {
    "id": "31vhPqUh1zfv"
   },
   "source": [
    "### Data Mapping\n",
    "\n",
    "As mentioned before, due to the large size of this dataset, it is important to reduce the data to minimize the amount of memory being used. Hence, we map our ASIN and user codes to integer values in order to optimize memory allocation during the modeling process as well as converting our data types to the smallest possible integer type without losing any information."
   ]
  },
  {
   "cell_type": "code",
   "execution_count": 22,
   "metadata": {
    "ExecuteTime": {
     "end_time": "2021-06-23T18:27:34.255502Z",
     "start_time": "2021-06-23T18:27:34.224184Z"
    },
    "id": "MRiILfsS1zfZ"
   },
   "outputs": [],
   "source": [
    "# Create list of unique asin codes\n",
    "asin_list = catalog_df['asin'].unique()"
   ]
  },
  {
   "cell_type": "code",
   "execution_count": 23,
   "metadata": {
    "ExecuteTime": {
     "end_time": "2021-06-23T18:27:34.263444Z",
     "start_time": "2021-06-23T18:27:34.259699Z"
    },
    "colab": {
     "base_uri": "https://localhost:8080/"
    },
    "id": "D4orCzVi1zfa",
    "outputId": "dc70750e-ab2e-4fb8-f364-c774afffcf57"
   },
   "outputs": [
    {
     "data": {
      "text/plain": [
       "array([    0,     1,     2, ..., 12108, 12109, 12110])"
      ]
     },
     "execution_count": 23,
     "metadata": {},
     "output_type": "execute_result"
    }
   ],
   "source": [
    "# Create an array of integers to map asin codes to\n",
    "np.arange(len(asin_list))"
   ]
  },
  {
   "cell_type": "code",
   "execution_count": 24,
   "metadata": {
    "ExecuteTime": {
     "end_time": "2021-06-23T18:27:34.269920Z",
     "start_time": "2021-06-23T18:27:34.265235Z"
    },
    "id": "NSyPjo5L1zfa"
   },
   "outputs": [],
   "source": [
    "# Construct dictionary using asin and corresponding product code\n",
    "asin_map = dict(zip(asin_list, np.arange(len(asin_list))))"
   ]
  },
  {
   "cell_type": "code",
   "execution_count": 25,
   "metadata": {
    "ExecuteTime": {
     "end_time": "2021-06-23T18:27:34.338506Z",
     "start_time": "2021-06-23T18:27:34.272077Z"
    },
    "id": "lop2bm5f1zfb"
   },
   "outputs": [
    {
     "data": {
      "text/html": [
       "<div>\n",
       "<style scoped>\n",
       "    .dataframe tbody tr th:only-of-type {\n",
       "        vertical-align: middle;\n",
       "    }\n",
       "\n",
       "    .dataframe tbody tr th {\n",
       "        vertical-align: top;\n",
       "    }\n",
       "\n",
       "    .dataframe thead th {\n",
       "        text-align: right;\n",
       "    }\n",
       "</style>\n",
       "<table border=\"1\" class=\"dataframe\">\n",
       "  <thead>\n",
       "    <tr style=\"text-align: right;\">\n",
       "      <th></th>\n",
       "      <th>asin</th>\n",
       "      <th>user</th>\n",
       "      <th>rating</th>\n",
       "      <th>title</th>\n",
       "    </tr>\n",
       "  </thead>\n",
       "  <tbody>\n",
       "    <tr>\n",
       "      <th>0</th>\n",
       "      <td>0</td>\n",
       "      <td>A1Q6MUU0B2ZDQG</td>\n",
       "      <td>2.0</td>\n",
       "      <td>Crabtree &amp;amp; Evelyn - Gardener's Ultra-Moist...</td>\n",
       "    </tr>\n",
       "    <tr>\n",
       "      <th>1</th>\n",
       "      <td>0</td>\n",
       "      <td>A3HO2SQDCZIE9S</td>\n",
       "      <td>5.0</td>\n",
       "      <td>Crabtree &amp;amp; Evelyn - Gardener's Ultra-Moist...</td>\n",
       "    </tr>\n",
       "    <tr>\n",
       "      <th>2</th>\n",
       "      <td>0</td>\n",
       "      <td>A2EM03F99X3RJZ</td>\n",
       "      <td>5.0</td>\n",
       "      <td>Crabtree &amp;amp; Evelyn - Gardener's Ultra-Moist...</td>\n",
       "    </tr>\n",
       "    <tr>\n",
       "      <th>3</th>\n",
       "      <td>0</td>\n",
       "      <td>A3Z74TDRGD0HU</td>\n",
       "      <td>5.0</td>\n",
       "      <td>Crabtree &amp;amp; Evelyn - Gardener's Ultra-Moist...</td>\n",
       "    </tr>\n",
       "    <tr>\n",
       "      <th>4</th>\n",
       "      <td>0</td>\n",
       "      <td>A2UXFNW9RTL4VM</td>\n",
       "      <td>5.0</td>\n",
       "      <td>Crabtree &amp;amp; Evelyn - Gardener's Ultra-Moist...</td>\n",
       "    </tr>\n",
       "    <tr>\n",
       "      <th>...</th>\n",
       "      <td>...</td>\n",
       "      <td>...</td>\n",
       "      <td>...</td>\n",
       "      <td>...</td>\n",
       "    </tr>\n",
       "    <tr>\n",
       "      <th>538077</th>\n",
       "      <td>6007</td>\n",
       "      <td>AHYJ78MVF4UQO</td>\n",
       "      <td>5.0</td>\n",
       "      <td>CND Shellac, Leather Satchel</td>\n",
       "    </tr>\n",
       "    <tr>\n",
       "      <th>538078</th>\n",
       "      <td>6007</td>\n",
       "      <td>A1L2RT7KBNK02K</td>\n",
       "      <td>5.0</td>\n",
       "      <td>CND Shellac, Leather Satchel</td>\n",
       "    </tr>\n",
       "    <tr>\n",
       "      <th>538079</th>\n",
       "      <td>6007</td>\n",
       "      <td>A36MLXQX9WPPW9</td>\n",
       "      <td>5.0</td>\n",
       "      <td>CND Shellac, Leather Satchel</td>\n",
       "    </tr>\n",
       "    <tr>\n",
       "      <th>538080</th>\n",
       "      <td>12109</td>\n",
       "      <td>A23DRCOMC2RIXF</td>\n",
       "      <td>1.0</td>\n",
       "      <td>Juicy Couture I Love Juicy Couture, 1.7 fl. Oz...</td>\n",
       "    </tr>\n",
       "    <tr>\n",
       "      <th>538081</th>\n",
       "      <td>12110</td>\n",
       "      <td>AJEDVHTLS9P3V</td>\n",
       "      <td>5.0</td>\n",
       "      <td>Juicy Couture I Love Juicy Couture, 3.4 fl. Oz...</td>\n",
       "    </tr>\n",
       "  </tbody>\n",
       "</table>\n",
       "<p>536111 rows × 4 columns</p>\n",
       "</div>"
      ],
      "text/plain": [
       "         asin            user  rating  \\\n",
       "0           0  A1Q6MUU0B2ZDQG     2.0   \n",
       "1           0  A3HO2SQDCZIE9S     5.0   \n",
       "2           0  A2EM03F99X3RJZ     5.0   \n",
       "3           0   A3Z74TDRGD0HU     5.0   \n",
       "4           0  A2UXFNW9RTL4VM     5.0   \n",
       "...       ...             ...     ...   \n",
       "538077   6007   AHYJ78MVF4UQO     5.0   \n",
       "538078   6007  A1L2RT7KBNK02K     5.0   \n",
       "538079   6007  A36MLXQX9WPPW9     5.0   \n",
       "538080  12109  A23DRCOMC2RIXF     1.0   \n",
       "538081  12110   AJEDVHTLS9P3V     5.0   \n",
       "\n",
       "                                                    title  \n",
       "0       Crabtree &amp; Evelyn - Gardener's Ultra-Moist...  \n",
       "1       Crabtree &amp; Evelyn - Gardener's Ultra-Moist...  \n",
       "2       Crabtree &amp; Evelyn - Gardener's Ultra-Moist...  \n",
       "3       Crabtree &amp; Evelyn - Gardener's Ultra-Moist...  \n",
       "4       Crabtree &amp; Evelyn - Gardener's Ultra-Moist...  \n",
       "...                                                   ...  \n",
       "538077                       CND Shellac, Leather Satchel  \n",
       "538078                       CND Shellac, Leather Satchel  \n",
       "538079                       CND Shellac, Leather Satchel  \n",
       "538080  Juicy Couture I Love Juicy Couture, 1.7 fl. Oz...  \n",
       "538081  Juicy Couture I Love Juicy Couture, 3.4 fl. Oz...  \n",
       "\n",
       "[536111 rows x 4 columns]"
      ]
     },
     "execution_count": 25,
     "metadata": {},
     "output_type": "execute_result"
    }
   ],
   "source": [
    "# Map asin to product code integer and check\n",
    "catalog_df['asin'] = catalog_df['asin'].map(asin_map)\n",
    "catalog_df"
   ]
  },
  {
   "cell_type": "code",
   "execution_count": 26,
   "metadata": {
    "ExecuteTime": {
     "end_time": "2021-06-23T18:27:34.355892Z",
     "start_time": "2021-06-23T18:27:34.340524Z"
    }
   },
   "outputs": [],
   "source": [
    "# Rename 'asin' column to 'product_code'\n",
    "catalog_df = catalog_df.rename(columns={'asin': 'product_code'})"
   ]
  },
  {
   "cell_type": "code",
   "execution_count": 27,
   "metadata": {
    "ExecuteTime": {
     "end_time": "2021-06-23T18:27:34.472679Z",
     "start_time": "2021-06-23T18:27:34.358105Z"
    },
    "id": "X-q2YtoN1zfc"
   },
   "outputs": [],
   "source": [
    "# Create list of unique users\n",
    "user_list = catalog_df['user'].unique()"
   ]
  },
  {
   "cell_type": "code",
   "execution_count": 28,
   "metadata": {
    "ExecuteTime": {
     "end_time": "2021-06-23T18:27:34.479688Z",
     "start_time": "2021-06-23T18:27:34.475102Z"
    },
    "colab": {
     "base_uri": "https://localhost:8080/"
    },
    "id": "DEL8-GVG1zfc",
    "outputId": "d45b0527-e35c-46af-9320-3c418f093e66"
   },
   "outputs": [
    {
     "data": {
      "text/plain": [
       "array([     0,      1,      2, ..., 416074, 416075, 416076])"
      ]
     },
     "execution_count": 28,
     "metadata": {},
     "output_type": "execute_result"
    }
   ],
   "source": [
    "# Create an array of integers to map user codes to\n",
    "np.arange(len(user_list))"
   ]
  },
  {
   "cell_type": "code",
   "execution_count": 29,
   "metadata": {
    "ExecuteTime": {
     "end_time": "2021-06-23T18:27:34.627267Z",
     "start_time": "2021-06-23T18:27:34.482658Z"
    },
    "id": "OAmPLRzM1zfc"
   },
   "outputs": [],
   "source": [
    "# Construct dictionary using user code and corresponding integer\n",
    "user_map = dict(zip(user_list, np.arange(len(user_list))))"
   ]
  },
  {
   "cell_type": "code",
   "execution_count": 30,
   "metadata": {
    "ExecuteTime": {
     "end_time": "2021-06-23T18:27:35.528926Z",
     "start_time": "2021-06-23T18:27:34.629406Z"
    },
    "id": "2higw83h1zfd"
   },
   "outputs": [
    {
     "data": {
      "text/html": [
       "<div>\n",
       "<style scoped>\n",
       "    .dataframe tbody tr th:only-of-type {\n",
       "        vertical-align: middle;\n",
       "    }\n",
       "\n",
       "    .dataframe tbody tr th {\n",
       "        vertical-align: top;\n",
       "    }\n",
       "\n",
       "    .dataframe thead th {\n",
       "        text-align: right;\n",
       "    }\n",
       "</style>\n",
       "<table border=\"1\" class=\"dataframe\">\n",
       "  <thead>\n",
       "    <tr style=\"text-align: right;\">\n",
       "      <th></th>\n",
       "      <th>product_code</th>\n",
       "      <th>user</th>\n",
       "      <th>rating</th>\n",
       "      <th>title</th>\n",
       "    </tr>\n",
       "  </thead>\n",
       "  <tbody>\n",
       "    <tr>\n",
       "      <th>0</th>\n",
       "      <td>0</td>\n",
       "      <td>0</td>\n",
       "      <td>2.0</td>\n",
       "      <td>Crabtree &amp;amp; Evelyn - Gardener's Ultra-Moist...</td>\n",
       "    </tr>\n",
       "    <tr>\n",
       "      <th>1</th>\n",
       "      <td>0</td>\n",
       "      <td>1</td>\n",
       "      <td>5.0</td>\n",
       "      <td>Crabtree &amp;amp; Evelyn - Gardener's Ultra-Moist...</td>\n",
       "    </tr>\n",
       "    <tr>\n",
       "      <th>2</th>\n",
       "      <td>0</td>\n",
       "      <td>2</td>\n",
       "      <td>5.0</td>\n",
       "      <td>Crabtree &amp;amp; Evelyn - Gardener's Ultra-Moist...</td>\n",
       "    </tr>\n",
       "    <tr>\n",
       "      <th>3</th>\n",
       "      <td>0</td>\n",
       "      <td>3</td>\n",
       "      <td>5.0</td>\n",
       "      <td>Crabtree &amp;amp; Evelyn - Gardener's Ultra-Moist...</td>\n",
       "    </tr>\n",
       "    <tr>\n",
       "      <th>4</th>\n",
       "      <td>0</td>\n",
       "      <td>4</td>\n",
       "      <td>5.0</td>\n",
       "      <td>Crabtree &amp;amp; Evelyn - Gardener's Ultra-Moist...</td>\n",
       "    </tr>\n",
       "    <tr>\n",
       "      <th>...</th>\n",
       "      <td>...</td>\n",
       "      <td>...</td>\n",
       "      <td>...</td>\n",
       "      <td>...</td>\n",
       "    </tr>\n",
       "    <tr>\n",
       "      <th>538077</th>\n",
       "      <td>6007</td>\n",
       "      <td>194409</td>\n",
       "      <td>5.0</td>\n",
       "      <td>CND Shellac, Leather Satchel</td>\n",
       "    </tr>\n",
       "    <tr>\n",
       "      <th>538078</th>\n",
       "      <td>6007</td>\n",
       "      <td>175285</td>\n",
       "      <td>5.0</td>\n",
       "      <td>CND Shellac, Leather Satchel</td>\n",
       "    </tr>\n",
       "    <tr>\n",
       "      <th>538079</th>\n",
       "      <td>6007</td>\n",
       "      <td>416075</td>\n",
       "      <td>5.0</td>\n",
       "      <td>CND Shellac, Leather Satchel</td>\n",
       "    </tr>\n",
       "    <tr>\n",
       "      <th>538080</th>\n",
       "      <td>12109</td>\n",
       "      <td>416076</td>\n",
       "      <td>1.0</td>\n",
       "      <td>Juicy Couture I Love Juicy Couture, 1.7 fl. Oz...</td>\n",
       "    </tr>\n",
       "    <tr>\n",
       "      <th>538081</th>\n",
       "      <td>12110</td>\n",
       "      <td>4344</td>\n",
       "      <td>5.0</td>\n",
       "      <td>Juicy Couture I Love Juicy Couture, 3.4 fl. Oz...</td>\n",
       "    </tr>\n",
       "  </tbody>\n",
       "</table>\n",
       "<p>536111 rows × 4 columns</p>\n",
       "</div>"
      ],
      "text/plain": [
       "        product_code    user  rating  \\\n",
       "0                  0       0     2.0   \n",
       "1                  0       1     5.0   \n",
       "2                  0       2     5.0   \n",
       "3                  0       3     5.0   \n",
       "4                  0       4     5.0   \n",
       "...              ...     ...     ...   \n",
       "538077          6007  194409     5.0   \n",
       "538078          6007  175285     5.0   \n",
       "538079          6007  416075     5.0   \n",
       "538080         12109  416076     1.0   \n",
       "538081         12110    4344     5.0   \n",
       "\n",
       "                                                    title  \n",
       "0       Crabtree &amp; Evelyn - Gardener's Ultra-Moist...  \n",
       "1       Crabtree &amp; Evelyn - Gardener's Ultra-Moist...  \n",
       "2       Crabtree &amp; Evelyn - Gardener's Ultra-Moist...  \n",
       "3       Crabtree &amp; Evelyn - Gardener's Ultra-Moist...  \n",
       "4       Crabtree &amp; Evelyn - Gardener's Ultra-Moist...  \n",
       "...                                                   ...  \n",
       "538077                       CND Shellac, Leather Satchel  \n",
       "538078                       CND Shellac, Leather Satchel  \n",
       "538079                       CND Shellac, Leather Satchel  \n",
       "538080  Juicy Couture I Love Juicy Couture, 1.7 fl. Oz...  \n",
       "538081  Juicy Couture I Love Juicy Couture, 3.4 fl. Oz...  \n",
       "\n",
       "[536111 rows x 4 columns]"
      ]
     },
     "execution_count": 30,
     "metadata": {},
     "output_type": "execute_result"
    }
   ],
   "source": [
    "# Map asin to product code integer and check\n",
    "catalog_df['user'] = catalog_df['user'].map(user_map)\n",
    "catalog_df"
   ]
  },
  {
   "cell_type": "code",
   "execution_count": 31,
   "metadata": {
    "ExecuteTime": {
     "end_time": "2021-06-23T18:27:35.540883Z",
     "start_time": "2021-06-23T18:27:35.531357Z"
    },
    "id": "HQlhMxXo1zfe"
   },
   "outputs": [],
   "source": [
    "# Convert to more efficient integer types\n",
    "catalog_df['rating']=catalog_df['rating'].astype(np.int8)\n",
    "catalog_df['product_code']=catalog_df['product_code'].astype(np.int32)\n",
    "catalog_df['user']=catalog_df['user'].astype(np.int32)"
   ]
  },
  {
   "cell_type": "code",
   "execution_count": 32,
   "metadata": {
    "ExecuteTime": {
     "end_time": "2021-06-23T18:27:35.547384Z",
     "start_time": "2021-06-23T18:27:35.542606Z"
    },
    "colab": {
     "base_uri": "https://localhost:8080/"
    },
    "id": "runCRLkF1zfe",
    "outputId": "83f4b49a-d1d3-41af-8d76-3741dec0b84d"
   },
   "outputs": [
    {
     "data": {
      "text/plain": [
       "product_code     int32\n",
       "user             int32\n",
       "rating            int8\n",
       "title           object\n",
       "dtype: object"
      ]
     },
     "execution_count": 32,
     "metadata": {},
     "output_type": "execute_result"
    }
   ],
   "source": [
    "# Check data types\n",
    "catalog_df.dtypes"
   ]
  },
  {
   "cell_type": "code",
   "execution_count": 33,
   "metadata": {
    "ExecuteTime": {
     "end_time": "2021-06-23T18:27:35.553926Z",
     "start_time": "2021-06-23T18:27:35.549634Z"
    },
    "colab": {
     "base_uri": "https://localhost:8080/"
    },
    "id": "vqTxVtou1zfd",
    "outputId": "2d1fff28-01a3-4159-f5b9-ca69ae437cac"
   },
   "outputs": [
    {
     "data": {
      "text/plain": [
       "product_code     int32\n",
       "user             int32\n",
       "rating            int8\n",
       "title           object\n",
       "dtype: object"
      ]
     },
     "execution_count": 33,
     "metadata": {},
     "output_type": "execute_result"
    }
   ],
   "source": [
    "# Check datatype of columns\n",
    "catalog_df.dtypes"
   ]
  },
  {
   "cell_type": "markdown",
   "metadata": {},
   "source": [
    "Now that we have reduced the datasize by converting each feature to its lowest possible integer type, let's take a look at the memory usage of our optimized catalog_df."
   ]
  },
  {
   "cell_type": "code",
   "execution_count": 34,
   "metadata": {
    "ExecuteTime": {
     "end_time": "2021-06-23T18:27:35.613398Z",
     "start_time": "2021-06-23T18:27:35.556052Z"
    }
   },
   "outputs": [
    {
     "name": "stdout",
     "output_type": "stream",
     "text": [
      "Dataframe memory usage: 68.37 MB.\n"
     ]
    }
   ],
   "source": [
    "# Print size of transformed and optimized catalog_df\n",
    "get_df_size(catalog_df)"
   ]
  },
  {
   "cell_type": "markdown",
   "metadata": {},
   "source": [
    "Great! We have successfully reduced the memory usage of this catalog_df from 141.67 MB to 68.37 MB without losing any essential information."
   ]
  },
  {
   "cell_type": "markdown",
   "metadata": {},
   "source": [
    "### Slicing Data for Modeling\n",
    "\n",
    "We're almost ready to enter the modeling process, so let's go ahead and slice out just the columns we need to do so."
   ]
  },
  {
   "cell_type": "code",
   "execution_count": 35,
   "metadata": {
    "ExecuteTime": {
     "end_time": "2021-06-23T18:27:35.624193Z",
     "start_time": "2021-06-23T18:27:35.615857Z"
    }
   },
   "outputs": [],
   "source": [
    "# Create dataframe with user item rating\n",
    "df = catalog_df[['user', 'product_code', 'rating']]"
   ]
  },
  {
   "cell_type": "code",
   "execution_count": 36,
   "metadata": {
    "ExecuteTime": {
     "end_time": "2021-06-23T18:27:35.628759Z",
     "start_time": "2021-06-23T18:27:35.626189Z"
    },
    "id": "Q_OiZ4Sb1zfg"
   },
   "outputs": [],
   "source": [
    "# Save csv file to use in Databricks ALS model\n",
    "# catalog_df.to_csv(r'data/Luxury_Beauty_reduced.csv', index=False)"
   ]
  },
  {
   "cell_type": "markdown",
   "metadata": {
    "id": "PnlTse2L1zfw"
   },
   "source": [
    "## Data Modeling\n",
    "\n",
    "In this section, we will take a look at using the Surprise scikit package to test which algorithm will be the best for building a recommender system using our Amazon review data.\n",
    "\n",
    "The models we will look at are some K-Nearest Neighbor models and a series of gridsearched Singular Value Decomposition models. You can find the process behind modeling using Alternating Least Squares in PySpark, but we will leave this model out of our main analysis due to its poor performance on this specific dataset as well as the fact that we will need to use PySpark to perform the modeling process."
   ]
  },
  {
   "cell_type": "code",
   "execution_count": 37,
   "metadata": {
    "ExecuteTime": {
     "end_time": "2021-06-23T18:27:35.632663Z",
     "start_time": "2021-06-23T18:27:35.630628Z"
    },
    "colab": {
     "base_uri": "https://localhost:8080/"
    },
    "id": "8U_xioXk1zfg",
    "outputId": "2b5e978f-b7de-4d43-db73-88c6af394eb3"
   },
   "outputs": [],
   "source": [
    "# If using Colab, install Surprise\n",
    "# %pip install scikit-surprise"
   ]
  },
  {
   "cell_type": "code",
   "execution_count": 38,
   "metadata": {
    "ExecuteTime": {
     "end_time": "2021-06-23T18:27:35.945186Z",
     "start_time": "2021-06-23T18:27:35.634683Z"
    },
    "id": "_CsK7rWl1zfh"
   },
   "outputs": [],
   "source": [
    "# Import necessary packages for building recommender system\n",
    "from surprise import Dataset, Reader\n",
    "from surprise import accuracy\n",
    "from surprise.prediction_algorithms import knns\n",
    "from surprise.similarities import cosine, msd, pearson\n",
    "from surprise.model_selection import cross_validate, train_test_split\n",
    "from surprise.prediction_algorithms import SVD\n",
    "from surprise.model_selection import GridSearchCV"
   ]
  },
  {
   "cell_type": "code",
   "execution_count": 39,
   "metadata": {
    "ExecuteTime": {
     "end_time": "2021-06-23T18:27:36.366294Z",
     "start_time": "2021-06-23T18:27:35.946924Z"
    },
    "id": "ZsaA_Lvy1zfh"
   },
   "outputs": [],
   "source": [
    "# Create reader object and format review data for processing\n",
    "reader = Reader(line_format = 'user item rating', sep = ',')\n",
    "data = Dataset.load_from_df(df, reader=reader)"
   ]
  },
  {
   "cell_type": "code",
   "execution_count": 40,
   "metadata": {
    "ExecuteTime": {
     "end_time": "2021-06-23T18:27:38.367858Z",
     "start_time": "2021-06-23T18:27:36.368196Z"
    },
    "id": "TF4p10TJ1zfh"
   },
   "outputs": [],
   "source": [
    "# Create train test split\n",
    "trainset, testset = train_test_split(data, test_size=0.25, random_state=27)"
   ]
  },
  {
   "cell_type": "markdown",
   "metadata": {
    "ExecuteTime": {
     "end_time": "2021-06-23T15:01:23.218749Z",
     "start_time": "2021-06-23T15:01:23.211530Z"
    }
   },
   "source": [
    "### Memory-Based Item-Item Collaborative Filtering\n",
    "\n",
    "As we see below, the number of unique items is much less than the number of unique users. Hence, for the following K-Nearest Neighbor models, it will be more effective to use item-based filtering in terms of computational efficiency as well as performance due to the fact that the average rating of each item is less likely to change as quickly as the ratings given by each user to different items. \n",
    "\n",
    "For the KNN Basic and KNN with Means algorithms, we will examine performance based on cosine similarity and Pearson correlation coefficient. However, for the KNN with Z-score and KNN Baseline algorithms, we will only examine the Pearson baseline metric, since the Surprise documentation recommends this in order to achieve the best performance.\n",
    "\n",
    "As we iterate through each model, we will save the resulting scores as dictionaries which we will combine in a dataframe to compare at the end."
   ]
  },
  {
   "cell_type": "code",
   "execution_count": 41,
   "metadata": {
    "ExecuteTime": {
     "end_time": "2021-06-23T18:27:38.375992Z",
     "start_time": "2021-06-23T18:27:38.370862Z"
    }
   },
   "outputs": [],
   "source": [
    "# Write function to calculate average test metrics\n",
    "def get_avg_metrics(score_dict):\n",
    "    \"\"\"\n",
    "    Calculates average of each list in the specified dictionary.\n",
    "    \n",
    "    Inspired by solution by Jiby on StackOverflow:\n",
    "    https://stackoverflow.com/questions/30687244/python-3-4-how-to-get-the-average-of-dictionary-values\n",
    "\n",
    "    Args:\n",
    "        score_dict (dict) : Dictionary with model test scores.\n",
    "        \n",
    "    Returns:\n",
    "        avgDict (dict) : Dictionary with calculated mean average values.\n",
    "    \"\"\"\n",
    "    \n",
    "    avgDict = {}\n",
    "    for k,v in score_dict.items():\n",
    "        avgDict[k] = sum(v)/ float(len(v))\n",
    "    return avgDict"
   ]
  },
  {
   "cell_type": "code",
   "execution_count": 42,
   "metadata": {
    "ExecuteTime": {
     "end_time": "2021-06-23T18:27:38.396767Z",
     "start_time": "2021-06-23T18:27:38.379176Z"
    },
    "colab": {
     "base_uri": "https://localhost:8080/"
    },
    "id": "2zgI5uO81zfd",
    "outputId": "f715fd6c-9354-4e55-c797-88d4effc5578"
   },
   "outputs": [
    {
     "data": {
      "text/plain": [
       "12111"
      ]
     },
     "execution_count": 42,
     "metadata": {},
     "output_type": "execute_result"
    }
   ],
   "source": [
    "# Check how many unique values for asin\n",
    "catalog_df['product_code'].nunique()"
   ]
  },
  {
   "cell_type": "code",
   "execution_count": 43,
   "metadata": {
    "ExecuteTime": {
     "end_time": "2021-06-23T18:27:38.424248Z",
     "start_time": "2021-06-23T18:27:38.399718Z"
    },
    "colab": {
     "base_uri": "https://localhost:8080/"
    },
    "id": "kQbokPo51zfe",
    "outputId": "7822e3e7-c2a0-407b-f446-cdeb4b4870cc"
   },
   "outputs": [
    {
     "data": {
      "text/plain": [
       "416077"
      ]
     },
     "execution_count": 43,
     "metadata": {},
     "output_type": "execute_result"
    }
   ],
   "source": [
    "# Check how many unique values for user\n",
    "catalog_df['user'].nunique()"
   ]
  },
  {
   "cell_type": "markdown",
   "metadata": {
    "id": "PsmhNikn1zfh"
   },
   "source": [
    "#### KNN Basic\n",
    "\n",
    "We begin with the most basic form of the K-Nearest Neighbors algorithm."
   ]
  },
  {
   "cell_type": "code",
   "execution_count": 44,
   "metadata": {
    "ExecuteTime": {
     "end_time": "2021-06-23T18:27:49.562601Z",
     "start_time": "2021-06-23T18:27:38.428096Z"
    },
    "colab": {
     "base_uri": "https://localhost:8080/"
    },
    "id": "sBSij9YT1zfi",
    "outputId": "5072d6a2-ff3e-486a-ba53-570a77af043c"
   },
   "outputs": [
    {
     "name": "stdout",
     "output_type": "stream",
     "text": [
      "Computing the cosine similarity matrix...\n",
      "Done computing similarity matrix.\n"
     ]
    }
   ],
   "source": [
    "# KNN Basic with cosine similarity\n",
    "KNN_basic_cos = knns.KNNBasic(sim_options={'name': 'cosine', \n",
    "                                          'user_based': False}).fit(trainset)"
   ]
  },
  {
   "cell_type": "code",
   "execution_count": 45,
   "metadata": {
    "ExecuteTime": {
     "end_time": "2021-06-23T18:27:51.528991Z",
     "start_time": "2021-06-23T18:27:49.566682Z"
    }
   },
   "outputs": [
    {
     "name": "stdout",
     "output_type": "stream",
     "text": [
      "RMSE: 1.2579\n",
      "MAE:  0.9413\n"
     ]
    },
    {
     "data": {
      "text/plain": [
       "0.9413453103059339"
      ]
     },
     "execution_count": 45,
     "metadata": {},
     "output_type": "execute_result"
    }
   ],
   "source": [
    "# Get predictions on test data and print RMSE and MAE\n",
    "predictions = KNN_basic_cos.test(testset)\n",
    "accuracy.rmse(predictions)\n",
    "accuracy.mae(predictions)"
   ]
  },
  {
   "cell_type": "code",
   "execution_count": 46,
   "metadata": {
    "ExecuteTime": {
     "end_time": "2021-06-23T18:28:30.320626Z",
     "start_time": "2021-06-23T18:27:51.531196Z"
    }
   },
   "outputs": [
    {
     "name": "stdout",
     "output_type": "stream",
     "text": [
      "Evaluating RMSE, MAE of algorithm KNNBasic on 5 split(s).\n",
      "\n",
      "                  Fold 1  Fold 2  Fold 3  Fold 4  Fold 5  Mean    Std     \n",
      "RMSE (testset)    1.2632  1.2684  1.2633  1.2602  1.2582  1.2627  0.0035  \n",
      "MAE (testset)     0.9401  0.9429  0.9395  0.9383  0.9365  0.9395  0.0021  \n",
      "Fit time          17.04   16.78   15.44   14.06   12.23   15.11   1.79    \n",
      "Test time         3.32    2.63    1.77    1.39    1.19    2.06    0.80    \n"
     ]
    }
   ],
   "source": [
    "# Save dictionary with cross validated average scores\n",
    "KNN_basic_cos_dict = cross_validate(KNN_basic_cos, data, verbose= True, \\\n",
    "                                    n_jobs=-1)\n",
    "KNN_basic_cos_dict = get_avg_metrics(KNN_basic_cos_dict)"
   ]
  },
  {
   "cell_type": "code",
   "execution_count": 47,
   "metadata": {
    "ExecuteTime": {
     "end_time": "2021-06-23T18:28:35.711844Z",
     "start_time": "2021-06-23T18:28:30.327216Z"
    },
    "colab": {
     "base_uri": "https://localhost:8080/"
    },
    "id": "WcQiQwWC1zfi",
    "outputId": "7c7f270a-54bd-4be9-e427-33bb91e2727b"
   },
   "outputs": [
    {
     "name": "stdout",
     "output_type": "stream",
     "text": [
      "Computing the pearson similarity matrix...\n",
      "Done computing similarity matrix.\n"
     ]
    }
   ],
   "source": [
    "# KNN Basic with pearson correlation similarity\n",
    "KNN_basic_pearson = knns.KNNBasic(sim_options={'name': 'pearson', \n",
    "                                              'user_based': False})\\\n",
    "                        .fit(trainset)"
   ]
  },
  {
   "cell_type": "code",
   "execution_count": 48,
   "metadata": {
    "ExecuteTime": {
     "end_time": "2021-06-23T18:28:37.490464Z",
     "start_time": "2021-06-23T18:28:35.717983Z"
    }
   },
   "outputs": [
    {
     "name": "stdout",
     "output_type": "stream",
     "text": [
      "RMSE: 1.2555\n",
      "MAE:  0.9587\n"
     ]
    },
    {
     "data": {
      "text/plain": [
       "0.9586864064951247"
      ]
     },
     "execution_count": 48,
     "metadata": {},
     "output_type": "execute_result"
    }
   ],
   "source": [
    "# Get predictions on test data and print RMSE and MAE\n",
    "predictions = KNN_basic_pearson.test(testset)\n",
    "accuracy.rmse(predictions)\n",
    "accuracy.mae(predictions)"
   ]
  },
  {
   "cell_type": "code",
   "execution_count": 49,
   "metadata": {
    "ExecuteTime": {
     "end_time": "2021-06-23T18:29:18.369697Z",
     "start_time": "2021-06-23T18:28:37.493015Z"
    }
   },
   "outputs": [
    {
     "name": "stdout",
     "output_type": "stream",
     "text": [
      "Evaluating RMSE, MAE of algorithm KNNBasic on 5 split(s).\n",
      "\n",
      "                  Fold 1  Fold 2  Fold 3  Fold 4  Fold 5  Mean    Std     \n",
      "RMSE (testset)    1.2612  1.2494  1.2628  1.2675  1.2569  1.2596  0.0061  \n",
      "MAE (testset)     0.9569  0.9504  0.9583  0.9623  0.9552  0.9566  0.0039  \n",
      "Fit time          24.35   24.23   16.76   15.62   14.27   19.04   4.35    \n",
      "Test time         1.64    1.50    2.40    1.93    1.48    1.79    0.35    \n"
     ]
    }
   ],
   "source": [
    "# Save dictionary with cross validated average scores\n",
    "KNN_basic_pearson_dict = cross_validate(KNN_basic_pearson, \\\n",
    "                                        data, verbose= True, n_jobs=-1)\n",
    "KNN_basic_pearson_dict = get_avg_metrics(KNN_basic_pearson_dict)"
   ]
  },
  {
   "cell_type": "markdown",
   "metadata": {
    "id": "hfi9P0Gu1zfj"
   },
   "source": [
    "#### KNN With Means\n",
    "\n",
    "Next, we move onto a KNN algorithm which takes into account the mean ratings of each item."
   ]
  },
  {
   "cell_type": "code",
   "execution_count": 50,
   "metadata": {
    "ExecuteTime": {
     "end_time": "2021-06-23T18:29:23.529097Z",
     "start_time": "2021-06-23T18:29:18.374253Z"
    },
    "colab": {
     "base_uri": "https://localhost:8080/"
    },
    "id": "q2elEhOw1zfj",
    "outputId": "5584db98-6271-4338-c5b1-9e040a036c06"
   },
   "outputs": [
    {
     "name": "stdout",
     "output_type": "stream",
     "text": [
      "Computing the cosine similarity matrix...\n",
      "Done computing similarity matrix.\n"
     ]
    }
   ],
   "source": [
    "# KNN with Means with cosine similarity\n",
    "KNN_mean_cos = knns.KNNWithMeans(sim_options={'name': 'cosine', \\\n",
    "                                              'user_based': False})\\\n",
    "                   .fit(trainset)"
   ]
  },
  {
   "cell_type": "code",
   "execution_count": 51,
   "metadata": {
    "ExecuteTime": {
     "end_time": "2021-06-23T18:29:24.941525Z",
     "start_time": "2021-06-23T18:29:23.533510Z"
    }
   },
   "outputs": [
    {
     "name": "stdout",
     "output_type": "stream",
     "text": [
      "RMSE: 1.2559\n",
      "MAE:  0.9446\n"
     ]
    },
    {
     "data": {
      "text/plain": [
       "0.9446222566929098"
      ]
     },
     "execution_count": 51,
     "metadata": {},
     "output_type": "execute_result"
    }
   ],
   "source": [
    "# Get predictions on test data and print RMSE and MAE\n",
    "predictions = KNN_mean_cos.test(testset)\n",
    "accuracy.rmse(predictions)\n",
    "accuracy.mae(predictions)"
   ]
  },
  {
   "cell_type": "code",
   "execution_count": 52,
   "metadata": {
    "ExecuteTime": {
     "end_time": "2021-06-23T18:29:59.869268Z",
     "start_time": "2021-06-23T18:29:24.944213Z"
    }
   },
   "outputs": [
    {
     "name": "stdout",
     "output_type": "stream",
     "text": [
      "Evaluating RMSE, MAE of algorithm KNNWithMeans on 5 split(s).\n",
      "\n",
      "                  Fold 1  Fold 2  Fold 3  Fold 4  Fold 5  Mean    Std     \n",
      "RMSE (testset)    1.2635  1.2616  1.2630  1.2581  1.2585  1.2609  0.0023  \n",
      "MAE (testset)     0.9441  0.9444  0.9443  0.9425  0.9421  0.9435  0.0010  \n",
      "Fit time          16.00   15.99   15.28   13.53   11.86   14.53   1.61    \n",
      "Test time         2.65    2.02    1.59    1.43    1.25    1.79    0.50    \n"
     ]
    }
   ],
   "source": [
    "# Save dictionary with cross validated average scores\n",
    "KNN_mean_cos_dict = cross_validate(KNN_mean_cos, data, verbose= True, \\\n",
    "                                   n_jobs=-1)\n",
    "KNN_mean_cos_dict = get_avg_metrics(KNN_mean_cos_dict)"
   ]
  },
  {
   "cell_type": "code",
   "execution_count": 53,
   "metadata": {
    "ExecuteTime": {
     "end_time": "2021-06-23T18:30:05.438550Z",
     "start_time": "2021-06-23T18:29:59.874067Z"
    },
    "colab": {
     "base_uri": "https://localhost:8080/"
    },
    "id": "I3OuWN8W1zfk",
    "outputId": "5dadc38c-842b-448b-cfb8-b0d22426e126"
   },
   "outputs": [
    {
     "name": "stdout",
     "output_type": "stream",
     "text": [
      "Computing the pearson similarity matrix...\n",
      "Done computing similarity matrix.\n"
     ]
    }
   ],
   "source": [
    "# KNN with Means with pearson correlation similarity\n",
    "KNN_mean_pearson = knns.KNNWithMeans(sim_options={'name': 'pearson', \\\n",
    "                                                  'user_based': False})\\\n",
    "                       .fit(trainset)"
   ]
  },
  {
   "cell_type": "code",
   "execution_count": 54,
   "metadata": {
    "ExecuteTime": {
     "end_time": "2021-06-23T18:30:06.784864Z",
     "start_time": "2021-06-23T18:30:05.441142Z"
    }
   },
   "outputs": [
    {
     "name": "stdout",
     "output_type": "stream",
     "text": [
      "RMSE: 1.2552\n",
      "MAE:  0.9558\n"
     ]
    },
    {
     "data": {
      "text/plain": [
       "0.9557535279674143"
      ]
     },
     "execution_count": 54,
     "metadata": {},
     "output_type": "execute_result"
    }
   ],
   "source": [
    "# Get predictions on test data and print RMSE and MAE\n",
    "predictions = KNN_mean_pearson.test(testset)\n",
    "accuracy.rmse(predictions)\n",
    "accuracy.mae(predictions)"
   ]
  },
  {
   "cell_type": "code",
   "execution_count": 55,
   "metadata": {
    "ExecuteTime": {
     "end_time": "2021-06-23T18:30:47.485084Z",
     "start_time": "2021-06-23T18:30:06.788712Z"
    }
   },
   "outputs": [
    {
     "name": "stdout",
     "output_type": "stream",
     "text": [
      "Evaluating RMSE, MAE of algorithm KNNWithMeans on 5 split(s).\n",
      "\n",
      "                  Fold 1  Fold 2  Fold 3  Fold 4  Fold 5  Mean    Std     \n",
      "RMSE (testset)    1.2587  1.2616  1.2565  1.2576  1.2662  1.2601  0.0035  \n",
      "MAE (testset)     0.9545  0.9561  0.9531  0.9522  0.9599  0.9551  0.0027  \n",
      "Fit time          22.28   20.57   18.15   18.16   13.97   18.63   2.80    \n",
      "Test time         1.54    1.63    1.54    1.61    1.45    1.56    0.07    \n"
     ]
    }
   ],
   "source": [
    "# Save dictionary with cross validated average scores\n",
    "KNN_mean_pearson_dict = cross_validate(KNN_mean_pearson, data, verbose= True,\\\n",
    "                                       n_jobs=-1)\n",
    "KNN_mean_pearson_dict = get_avg_metrics(KNN_mean_pearson_dict)"
   ]
  },
  {
   "cell_type": "markdown",
   "metadata": {
    "id": "hfi9P0Gu1zfj"
   },
   "source": [
    "#### KNN With Z-Score\n",
    "\n",
    "This algorithm takes into account the Z-score normalization of each item's ratings."
   ]
  },
  {
   "cell_type": "code",
   "execution_count": 56,
   "metadata": {
    "ExecuteTime": {
     "end_time": "2021-06-23T18:30:58.623850Z",
     "start_time": "2021-06-23T18:30:47.490187Z"
    },
    "colab": {
     "base_uri": "https://localhost:8080/"
    },
    "id": "I3OuWN8W1zfk",
    "outputId": "5dadc38c-842b-448b-cfb8-b0d22426e126"
   },
   "outputs": [
    {
     "name": "stdout",
     "output_type": "stream",
     "text": [
      "Estimating biases using als...\n",
      "Computing the pearson_baseline similarity matrix...\n",
      "Done computing similarity matrix.\n"
     ]
    }
   ],
   "source": [
    "# KNN with Z-score with pearson baseline correlation similarity\n",
    "KNN_z_pearson = knns.KNNWithZScore(sim_options={'name': 'pearson_baseline', \\\n",
    "                                                'user_based': False})\\\n",
    "                    .fit(trainset)"
   ]
  },
  {
   "cell_type": "code",
   "execution_count": 57,
   "metadata": {
    "ExecuteTime": {
     "end_time": "2021-06-23T18:31:00.662187Z",
     "start_time": "2021-06-23T18:30:58.629254Z"
    }
   },
   "outputs": [
    {
     "name": "stdout",
     "output_type": "stream",
     "text": [
      "RMSE: 1.2548\n",
      "MAE:  0.9510\n"
     ]
    },
    {
     "data": {
      "text/plain": [
       "0.9510002056079127"
      ]
     },
     "execution_count": 57,
     "metadata": {},
     "output_type": "execute_result"
    }
   ],
   "source": [
    "# Get predictions on test data and print RMSE and MAE\n",
    "predictions = KNN_z_pearson.test(testset)\n",
    "accuracy.rmse(predictions)\n",
    "accuracy.mae(predictions)"
   ]
  },
  {
   "cell_type": "code",
   "execution_count": 58,
   "metadata": {
    "ExecuteTime": {
     "end_time": "2021-06-23T18:31:42.464719Z",
     "start_time": "2021-06-23T18:31:00.665988Z"
    }
   },
   "outputs": [
    {
     "name": "stdout",
     "output_type": "stream",
     "text": [
      "Evaluating RMSE, MAE of algorithm KNNWithZScore on 5 split(s).\n",
      "\n",
      "                  Fold 1  Fold 2  Fold 3  Fold 4  Fold 5  Mean    Std     \n",
      "RMSE (testset)    1.2555  1.2566  1.2563  1.2693  1.2604  1.2596  0.0051  \n",
      "MAE (testset)     0.9466  0.9488  0.9487  0.9563  0.9505  0.9502  0.0033  \n",
      "Fit time          21.97   21.64   19.75   18.58   16.00   19.59   2.18    \n",
      "Test time         2.04    1.76    1.48    1.30    0.94    1.50    0.38    \n"
     ]
    }
   ],
   "source": [
    "# Save dictionary with cross validated average scores\n",
    "KNN_z_pearson_dict = cross_validate(KNN_z_pearson, data, verbose= True, \\\n",
    "                                    n_jobs=-1)\n",
    "KNN_z_pearson_dict = get_avg_metrics(KNN_z_pearson_dict)"
   ]
  },
  {
   "cell_type": "markdown",
   "metadata": {
    "id": "hfi9P0Gu1zfj"
   },
   "source": [
    "#### KNN Baseline\n",
    "\n",
    "This final algorithm is a K-Nearest Neighbors algorithm that takes into account a baseline rating for each item."
   ]
  },
  {
   "cell_type": "code",
   "execution_count": 59,
   "metadata": {
    "ExecuteTime": {
     "end_time": "2021-06-23T18:31:49.848600Z",
     "start_time": "2021-06-23T18:31:42.469568Z"
    },
    "colab": {
     "base_uri": "https://localhost:8080/"
    },
    "id": "I3OuWN8W1zfk",
    "outputId": "5dadc38c-842b-448b-cfb8-b0d22426e126"
   },
   "outputs": [
    {
     "name": "stdout",
     "output_type": "stream",
     "text": [
      "Estimating biases using als...\n",
      "Computing the pearson_baseline similarity matrix...\n",
      "Done computing similarity matrix.\n"
     ]
    }
   ],
   "source": [
    "# KNN Baseline with pearson baseline similarity\n",
    "KNN_base_pearson= knns.KNNBaseline(sim_options={'name': 'pearson_baseline', \\\n",
    "                                                'user_based': False})\\\n",
    "                      .fit(trainset)"
   ]
  },
  {
   "cell_type": "code",
   "execution_count": 60,
   "metadata": {
    "ExecuteTime": {
     "end_time": "2021-06-23T18:31:51.278591Z",
     "start_time": "2021-06-23T18:31:49.852505Z"
    }
   },
   "outputs": [
    {
     "name": "stdout",
     "output_type": "stream",
     "text": [
      "RMSE: 1.2207\n",
      "MAE:  0.9138\n"
     ]
    },
    {
     "data": {
      "text/plain": [
       "0.9137729809312667"
      ]
     },
     "execution_count": 60,
     "metadata": {},
     "output_type": "execute_result"
    }
   ],
   "source": [
    "# Get predictions on test data and print RMSE and MAE\n",
    "predictions = KNN_base_pearson.test(testset)\n",
    "accuracy.rmse(predictions)\n",
    "accuracy.mae(predictions)"
   ]
  },
  {
   "cell_type": "code",
   "execution_count": 61,
   "metadata": {
    "ExecuteTime": {
     "end_time": "2021-06-23T18:32:24.811937Z",
     "start_time": "2021-06-23T18:31:51.280782Z"
    }
   },
   "outputs": [
    {
     "name": "stdout",
     "output_type": "stream",
     "text": [
      "Evaluating RMSE, MAE of algorithm KNNBaseline on 5 split(s).\n",
      "\n",
      "                  Fold 1  Fold 2  Fold 3  Fold 4  Fold 5  Mean    Std     \n",
      "RMSE (testset)    1.2227  1.2217  1.2241  1.2254  1.2270  1.2242  0.0019  \n",
      "MAE (testset)     0.9114  0.9096  0.9111  0.9130  0.9117  0.9114  0.0011  \n",
      "Fit time          13.59   14.95   14.67   13.09   12.06   13.67   1.06    \n",
      "Test time         2.74    2.08    1.44    1.44    1.14    1.77    0.58    \n"
     ]
    }
   ],
   "source": [
    "# Save dictionary with cross validated average scores\n",
    "KNN_base_pearson_dict = cross_validate(KNN_base_pearson, data, \\\n",
    "                                       verbose= True, n_jobs=-1)\n",
    "KNN_base_pearson_dict = get_avg_metrics(KNN_base_pearson_dict)"
   ]
  },
  {
   "cell_type": "markdown",
   "metadata": {},
   "source": [
    "We can see that the RMSE scores for our KNN are similar across the board, except for the KNN Baseline model, which did have a slightly lower score."
   ]
  },
  {
   "cell_type": "markdown",
   "metadata": {},
   "source": [
    "### Model-Based Collaborative Filtering via Matrix Factorization"
   ]
  },
  {
   "cell_type": "markdown",
   "metadata": {
    "id": "i9OnptzQ1zfk"
   },
   "source": [
    "#### Singular Value Decomposition\n",
    "\n",
    "Now, let's move onto the SVD model where we will begin with a basic model and try to improve our score by using a series of gridsearches. This model-based approach takes a sparse matrix where we have users x items, and decomposes this utility matrix into item characteristics and user preferences that correspond to those characteristics. By utilizing a gridsearch, we can determine the optimal number of factors, or characteristics/preferences, as well as adjust learning and regularization rates."
   ]
  },
  {
   "cell_type": "code",
   "execution_count": 62,
   "metadata": {
    "ExecuteTime": {
     "end_time": "2021-06-23T18:32:49.064985Z",
     "start_time": "2021-06-23T18:32:24.816509Z"
    },
    "id": "fp88ZZzN1zfk"
   },
   "outputs": [
    {
     "data": {
      "text/plain": [
       "<surprise.prediction_algorithms.matrix_factorization.SVD at 0x7fc87fcfb5e0>"
      ]
     },
     "execution_count": 62,
     "metadata": {},
     "output_type": "execute_result"
    }
   ],
   "source": [
    "# Train basic SVD model\n",
    "svd1 = SVD(random_state=27)\n",
    "svd1.fit(trainset)"
   ]
  },
  {
   "cell_type": "code",
   "execution_count": 63,
   "metadata": {
    "ExecuteTime": {
     "end_time": "2021-06-23T18:32:50.269681Z",
     "start_time": "2021-06-23T18:32:49.067528Z"
    },
    "colab": {
     "base_uri": "https://localhost:8080/"
    },
    "id": "lrTqOsvG1zfl",
    "outputId": "948c0691-c84a-40f8-9bd0-52d74843e23e"
   },
   "outputs": [
    {
     "name": "stdout",
     "output_type": "stream",
     "text": [
      "RMSE: 1.2343\n",
      "MAE:  0.9513\n"
     ]
    },
    {
     "data": {
      "text/plain": [
       "0.9513405014854374"
      ]
     },
     "execution_count": 63,
     "metadata": {},
     "output_type": "execute_result"
    }
   ],
   "source": [
    "# Get predictions on test data and print RMSE\n",
    "predictions = svd1.test(testset)\n",
    "accuracy.rmse(predictions)\n",
    "accuracy.mae(predictions)"
   ]
  },
  {
   "cell_type": "code",
   "execution_count": 64,
   "metadata": {
    "ExecuteTime": {
     "end_time": "2021-06-23T18:33:49.718796Z",
     "start_time": "2021-06-23T18:32:50.271901Z"
    }
   },
   "outputs": [
    {
     "name": "stdout",
     "output_type": "stream",
     "text": [
      "Evaluating RMSE, MAE of algorithm SVD on 5 split(s).\n",
      "\n",
      "                  Fold 1  Fold 2  Fold 3  Fold 4  Fold 5  Mean    Std     \n",
      "RMSE (testset)    1.2338  1.2398  1.2383  1.2373  1.2363  1.2371  0.0020  \n",
      "MAE (testset)     0.9486  0.9529  0.9531  0.9509  0.9498  0.9511  0.0017  \n",
      "Fit time          40.44   41.15   41.29   41.26   40.73   40.97   0.33    \n",
      "Test time         0.96    0.85    0.80    0.72    0.69    0.81    0.10    \n"
     ]
    }
   ],
   "source": [
    "# Save dictionary with average scores\n",
    "svd1_dict = cross_validate(svd1, data, verbose= True, n_jobs=-1)\n",
    "svd1_dict = get_avg_metrics(svd1_dict)"
   ]
  },
  {
   "cell_type": "code",
   "execution_count": 65,
   "metadata": {
    "ExecuteTime": {
     "end_time": "2021-06-23T18:50:58.748716Z",
     "start_time": "2021-06-23T18:33:49.727728Z"
    },
    "colab": {
     "base_uri": "https://localhost:8080/"
    },
    "id": "1Ho9k88v1zfl",
    "outputId": "ae2fe196-b5f1-4b7e-f6b7-611608cd8afe"
   },
   "outputs": [
    {
     "name": "stderr",
     "output_type": "stream",
     "text": [
      "[Parallel(n_jobs=-1)]: Using backend LokyBackend with 8 concurrent workers.\n",
      "[Parallel(n_jobs=-1)]: Done   2 tasks      | elapsed:  1.5min\n",
      "[Parallel(n_jobs=-1)]: Done  56 tasks      | elapsed: 11.6min\n",
      "[Parallel(n_jobs=-1)]: Done  80 out of  80 | elapsed: 17.0min finished\n"
     ]
    }
   ],
   "source": [
    "# Gridsearch #1\n",
    "param_grid = {'n_factors':[110, 130],'n_epochs': [25, 30], \\\n",
    "              'lr_all': [0.025, 0.05], 'reg_all': [0.1, 0.2]}\n",
    "svd_grid1 = GridSearchCV(SVD,param_grid=param_grid,joblib_verbose=5, \\\n",
    "                         n_jobs=-1)\n",
    "svd_grid1.fit(data)"
   ]
  },
  {
   "cell_type": "code",
   "execution_count": 66,
   "metadata": {
    "ExecuteTime": {
     "end_time": "2021-06-23T18:50:58.763853Z",
     "start_time": "2021-06-23T18:50:58.754225Z"
    },
    "colab": {
     "base_uri": "https://localhost:8080/"
    },
    "id": "9zl9extk1zfl",
    "outputId": "cadb82cd-7d65-4a04-c03e-ec829e2a6e35"
   },
   "outputs": [
    {
     "data": {
      "text/plain": [
       "{'rmse': {'n_factors': 130, 'n_epochs': 30, 'lr_all': 0.025, 'reg_all': 0.1},\n",
       " 'mae': {'n_factors': 110, 'n_epochs': 30, 'lr_all': 0.05, 'reg_all': 0.1}}"
      ]
     },
     "execution_count": 66,
     "metadata": {},
     "output_type": "execute_result"
    }
   ],
   "source": [
    "# Print results from gridsearch #1\n",
    "svd_grid1.best_params"
   ]
  },
  {
   "cell_type": "code",
   "execution_count": 67,
   "metadata": {
    "ExecuteTime": {
     "end_time": "2021-06-23T18:51:42.781205Z",
     "start_time": "2021-06-23T18:50:58.784489Z"
    },
    "colab": {
     "base_uri": "https://localhost:8080/"
    },
    "id": "gAgz8xbd1zfl",
    "outputId": "7bf64c06-d55c-4418-8b1b-d58d4a2ede16"
   },
   "outputs": [
    {
     "name": "stdout",
     "output_type": "stream",
     "text": [
      "RMSE: 1.2182\n",
      "MAE:  0.9285\n"
     ]
    },
    {
     "data": {
      "text/plain": [
       "0.9285218562243839"
      ]
     },
     "execution_count": 67,
     "metadata": {},
     "output_type": "execute_result"
    }
   ],
   "source": [
    "# Use best params to get RMSE and MAE on test data\n",
    "svd2 = SVD(n_factors=130, n_epochs=30, lr_all=0.025, reg_all=0.1, \\\n",
    "           random_state=27)\n",
    "svd2.fit(trainset)\n",
    "predictions = svd2.test(testset)\n",
    "accuracy.rmse(predictions)\n",
    "accuracy.mae(predictions)"
   ]
  },
  {
   "cell_type": "code",
   "execution_count": 68,
   "metadata": {
    "ExecuteTime": {
     "end_time": "2021-06-23T18:53:06.483464Z",
     "start_time": "2021-06-23T18:51:42.784444Z"
    }
   },
   "outputs": [
    {
     "name": "stdout",
     "output_type": "stream",
     "text": [
      "Evaluating RMSE, MAE of algorithm SVD on 5 split(s).\n",
      "\n",
      "                  Fold 1  Fold 2  Fold 3  Fold 4  Fold 5  Mean    Std     \n",
      "RMSE (testset)    1.2213  1.2221  1.2194  1.2214  1.2214  1.2211  0.0009  \n",
      "MAE (testset)     0.9263  0.9269  0.9270  0.9278  0.9290  0.9274  0.0009  \n",
      "Fit time          65.90   65.59   65.40   65.49   64.71   65.42   0.39    \n",
      "Test time         0.95    0.87    0.80    0.72    0.75    0.82    0.09    \n"
     ]
    }
   ],
   "source": [
    "# Save dictionary with average scores\n",
    "svd2_dict = cross_validate(svd2, data, verbose= True, n_jobs=-1)\n",
    "svd2_dict = get_avg_metrics(svd2_dict)"
   ]
  },
  {
   "cell_type": "code",
   "execution_count": 69,
   "metadata": {
    "ExecuteTime": {
     "end_time": "2021-06-23T19:16:14.290545Z",
     "start_time": "2021-06-23T18:53:06.485956Z"
    },
    "colab": {
     "base_uri": "https://localhost:8080/"
    },
    "id": "6ck07DV71zfm",
    "outputId": "8a4b1be8-bffc-49c3-aa00-3be0f78ff52f"
   },
   "outputs": [
    {
     "name": "stderr",
     "output_type": "stream",
     "text": [
      "[Parallel(n_jobs=-1)]: Using backend LokyBackend with 8 concurrent workers.\n",
      "[Parallel(n_jobs=-1)]: Done   2 tasks      | elapsed:  1.8min\n",
      "[Parallel(n_jobs=-1)]: Done  56 tasks      | elapsed: 15.3min\n",
      "[Parallel(n_jobs=-1)]: Done  80 out of  80 | elapsed: 23.0min finished\n"
     ]
    }
   ],
   "source": [
    "# Gridsearch #2\n",
    "param_grid = {'n_factors':[130, 150],'n_epochs': [30, 40], \\\n",
    "              'lr_all': [0.01, 0.025], 'reg_all': [0.05, 0.1]}\n",
    "svd_grid2 = GridSearchCV(SVD,param_grid=param_grid,joblib_verbose=5, \\\n",
    "                         n_jobs=-1)\n",
    "svd_grid2.fit(data)"
   ]
  },
  {
   "cell_type": "code",
   "execution_count": 70,
   "metadata": {
    "ExecuteTime": {
     "end_time": "2021-06-23T19:16:14.304612Z",
     "start_time": "2021-06-23T19:16:14.295361Z"
    },
    "colab": {
     "base_uri": "https://localhost:8080/"
    },
    "id": "gUwl75Li-rGw",
    "outputId": "3502e2b2-620d-4b1a-e3f1-72dba2572219"
   },
   "outputs": [
    {
     "data": {
      "text/plain": [
       "{'rmse': {'n_factors': 150, 'n_epochs': 40, 'lr_all': 0.025, 'reg_all': 0.1},\n",
       " 'mae': {'n_factors': 130, 'n_epochs': 40, 'lr_all': 0.025, 'reg_all': 0.05}}"
      ]
     },
     "execution_count": 70,
     "metadata": {},
     "output_type": "execute_result"
    }
   ],
   "source": [
    "# Print results from gridsearch #2\n",
    "svd_grid2.best_params"
   ]
  },
  {
   "cell_type": "code",
   "execution_count": 71,
   "metadata": {
    "ExecuteTime": {
     "end_time": "2021-06-23T19:17:16.980875Z",
     "start_time": "2021-06-23T19:16:14.307407Z"
    },
    "colab": {
     "base_uri": "https://localhost:8080/"
    },
    "id": "h91zkVXT-rka",
    "outputId": "923cdd40-74cc-40e9-bdcd-097a67b54ab9"
   },
   "outputs": [
    {
     "name": "stdout",
     "output_type": "stream",
     "text": [
      "RMSE: 1.2174\n",
      "MAE:  0.9259\n"
     ]
    },
    {
     "data": {
      "text/plain": [
       "0.9258506393305158"
      ]
     },
     "execution_count": 71,
     "metadata": {},
     "output_type": "execute_result"
    }
   ],
   "source": [
    "# Use best params to get RMSE and MAE on test data\n",
    "svd3 = SVD(n_factors=150, n_epochs=40, lr_all=0.025, reg_all=0.1, \\\n",
    "           random_state=27)\n",
    "svd3.fit(trainset)\n",
    "predictions = svd3.test(testset)\n",
    "accuracy.rmse(predictions)\n",
    "accuracy.mae(predictions)"
   ]
  },
  {
   "cell_type": "code",
   "execution_count": 72,
   "metadata": {
    "ExecuteTime": {
     "end_time": "2021-06-23T19:19:10.383577Z",
     "start_time": "2021-06-23T19:17:16.982867Z"
    }
   },
   "outputs": [
    {
     "name": "stdout",
     "output_type": "stream",
     "text": [
      "Evaluating RMSE, MAE of algorithm SVD on 5 split(s).\n",
      "\n",
      "                  Fold 1  Fold 2  Fold 3  Fold 4  Fold 5  Mean    Std     \n",
      "RMSE (testset)    1.2179  1.2205  1.2185  1.2207  1.2223  1.2200  0.0016  \n",
      "MAE (testset)     0.9243  0.9241  0.9238  0.9252  0.9256  0.9246  0.0007  \n",
      "Fit time          95.81   94.27   95.20   95.31   95.08   95.14   0.50    \n",
      "Test time         0.96    0.98    0.81    0.73    0.69    0.83    0.12    \n"
     ]
    }
   ],
   "source": [
    "# Save dictionary with average scores\n",
    "svd3_dict = cross_validate(svd3, data, verbose= True, n_jobs=-1)\n",
    "svd3_dict = get_avg_metrics(svd3_dict)"
   ]
  },
  {
   "cell_type": "code",
   "execution_count": 73,
   "metadata": {
    "ExecuteTime": {
     "end_time": "2021-06-23T19:28:08.587635Z",
     "start_time": "2021-06-23T19:19:10.386232Z"
    },
    "colab": {
     "base_uri": "https://localhost:8080/"
    },
    "id": "p1NzBPmg1zfm",
    "outputId": "78375387-3115-46f7-91f5-c18d98f29033"
   },
   "outputs": [
    {
     "name": "stderr",
     "output_type": "stream",
     "text": [
      "[Parallel(n_jobs=-1)]: Using backend LokyBackend with 8 concurrent workers.\n",
      "[Parallel(n_jobs=-1)]: Done   2 tasks      | elapsed:  2.7min\n",
      "[Parallel(n_jobs=-1)]: Done  10 out of  20 | elapsed:  6.1min remaining:  6.1min\n",
      "[Parallel(n_jobs=-1)]: Done  15 out of  20 | elapsed:  6.9min remaining:  2.3min\n",
      "[Parallel(n_jobs=-1)]: Done  20 out of  20 | elapsed:  8.8min remaining:    0.0s\n",
      "[Parallel(n_jobs=-1)]: Done  20 out of  20 | elapsed:  8.8min finished\n"
     ]
    }
   ],
   "source": [
    "# Gridsearch #3\n",
    "param_grid = {'n_factors':[150, 200],'n_epochs': [40, 50], 'lr_all': [0.025],\n",
    "              'reg_all': [0.1]}\n",
    "svd_grid_final = GridSearchCV(SVD,param_grid=param_grid,joblib_verbose=5, \\\n",
    "                              n_jobs=-1)\n",
    "svd_grid_final.fit(data)"
   ]
  },
  {
   "cell_type": "code",
   "execution_count": 74,
   "metadata": {
    "ExecuteTime": {
     "end_time": "2021-06-23T19:28:08.601030Z",
     "start_time": "2021-06-23T19:28:08.592776Z"
    },
    "colab": {
     "base_uri": "https://localhost:8080/"
    },
    "id": "JVmQ9UCi1zfm",
    "outputId": "dae08dd0-ab1e-471e-df8d-a509287f244b"
   },
   "outputs": [
    {
     "data": {
      "text/plain": [
       "{'rmse': {'n_factors': 150, 'n_epochs': 50, 'lr_all': 0.025, 'reg_all': 0.1},\n",
       " 'mae': {'n_factors': 150, 'n_epochs': 50, 'lr_all': 0.025, 'reg_all': 0.1}}"
      ]
     },
     "execution_count": 74,
     "metadata": {},
     "output_type": "execute_result"
    }
   ],
   "source": [
    "# Print results from final gridsearch\n",
    "svd_grid_final.best_params"
   ]
  },
  {
   "cell_type": "code",
   "execution_count": 75,
   "metadata": {
    "ExecuteTime": {
     "end_time": "2021-06-23T19:29:25.826339Z",
     "start_time": "2021-06-23T19:28:08.603969Z"
    },
    "colab": {
     "base_uri": "https://localhost:8080/"
    },
    "id": "6u_LywKw1zfm",
    "outputId": "4ff2e60f-10bd-4862-c64c-c3e7f0418678"
   },
   "outputs": [
    {
     "name": "stdout",
     "output_type": "stream",
     "text": [
      "RMSE: 1.2171\n",
      "MAE:  0.9237\n"
     ]
    },
    {
     "data": {
      "text/plain": [
       "0.9237444509387739"
      ]
     },
     "execution_count": 75,
     "metadata": {},
     "output_type": "execute_result"
    }
   ],
   "source": [
    "# Use best params to get RMSE and MAE on test data\n",
    "svd_final = SVD(lr_all=0.025, n_epochs=50, n_factors=150, reg_all=0.1, \\\n",
    "                random_state=27)\n",
    "svd_final.fit(trainset)\n",
    "predictions = svd_final.test(testset)\n",
    "accuracy.rmse(predictions)\n",
    "accuracy.mae(predictions)"
   ]
  },
  {
   "cell_type": "code",
   "execution_count": 76,
   "metadata": {
    "ExecuteTime": {
     "end_time": "2021-06-23T19:31:59.319151Z",
     "start_time": "2021-06-23T19:29:25.834635Z"
    }
   },
   "outputs": [
    {
     "name": "stdout",
     "output_type": "stream",
     "text": [
      "Evaluating RMSE, MAE of algorithm SVD on 5 split(s).\n",
      "\n",
      "                  Fold 1  Fold 2  Fold 3  Fold 4  Fold 5  Mean    Std     \n",
      "RMSE (testset)    1.2206  1.2226  1.2185  1.2152  1.2223  1.2199  0.0027  \n",
      "MAE (testset)     0.9220  0.9250  0.9232  0.9200  0.9246  0.9230  0.0018  \n",
      "Fit time          133.73  131.73  132.63  133.26  134.03  133.08  0.82    \n",
      "Test time         1.72    1.64    1.40    1.37    1.18    1.46    0.20    \n"
     ]
    }
   ],
   "source": [
    "# Save dictionary with average scores\n",
    "svd_final_dict = cross_validate(svd_final, data, verbose= True, n_jobs=-1)\n",
    "svd_final_dict = get_avg_metrics(svd_final_dict)"
   ]
  },
  {
   "cell_type": "markdown",
   "metadata": {
    "id": "CysMGW861zfw"
   },
   "source": [
    "## Evaluation\n",
    "\n",
    "In this section, we will begin by evaluating our test scores and then move on to build some functions to assist the client in looking up product codes. Finally, we will build a recommender system that takes a list of preferred products and returns a list of items that the user would likely give a high rating to."
   ]
  },
  {
   "cell_type": "markdown",
   "metadata": {},
   "source": [
    "Let's compare our test scores from all of the models that we've fit to this point:"
   ]
  },
  {
   "cell_type": "code",
   "execution_count": 83,
   "metadata": {
    "ExecuteTime": {
     "end_time": "2021-06-23T19:38:03.856933Z",
     "start_time": "2021-06-23T19:38:03.843767Z"
    }
   },
   "outputs": [
    {
     "data": {
      "text/html": [
       "<div>\n",
       "<style scoped>\n",
       "    .dataframe tbody tr th:only-of-type {\n",
       "        vertical-align: middle;\n",
       "    }\n",
       "\n",
       "    .dataframe tbody tr th {\n",
       "        vertical-align: top;\n",
       "    }\n",
       "\n",
       "    .dataframe thead th {\n",
       "        text-align: right;\n",
       "    }\n",
       "</style>\n",
       "<table border=\"1\" class=\"dataframe\">\n",
       "  <thead>\n",
       "    <tr style=\"text-align: right;\">\n",
       "      <th></th>\n",
       "      <th>test_rmse</th>\n",
       "      <th>test_mae</th>\n",
       "      <th>fit_time</th>\n",
       "      <th>test_time</th>\n",
       "    </tr>\n",
       "  </thead>\n",
       "  <tbody>\n",
       "    <tr>\n",
       "      <th>KNN_basic_cos_dict</th>\n",
       "      <td>1.262665</td>\n",
       "      <td>0.939480</td>\n",
       "      <td>15.110428</td>\n",
       "      <td>2.059231</td>\n",
       "    </tr>\n",
       "    <tr>\n",
       "      <th>KNN_basic_pearson_dict</th>\n",
       "      <td>1.259578</td>\n",
       "      <td>0.956636</td>\n",
       "      <td>19.044388</td>\n",
       "      <td>1.790483</td>\n",
       "    </tr>\n",
       "    <tr>\n",
       "      <th>KNN_mean_cos_dict</th>\n",
       "      <td>1.260920</td>\n",
       "      <td>0.943496</td>\n",
       "      <td>14.533423</td>\n",
       "      <td>1.789288</td>\n",
       "    </tr>\n",
       "    <tr>\n",
       "      <th>KNN_mean_pearson_dict</th>\n",
       "      <td>1.260106</td>\n",
       "      <td>0.955121</td>\n",
       "      <td>18.627990</td>\n",
       "      <td>1.555172</td>\n",
       "    </tr>\n",
       "    <tr>\n",
       "      <th>KNN_z_pearson_dict</th>\n",
       "      <td>1.259619</td>\n",
       "      <td>0.950190</td>\n",
       "      <td>19.586682</td>\n",
       "      <td>1.502960</td>\n",
       "    </tr>\n",
       "    <tr>\n",
       "      <th>KNN_base_pearson_dict</th>\n",
       "      <td>1.224198</td>\n",
       "      <td>0.911362</td>\n",
       "      <td>13.672175</td>\n",
       "      <td>1.769477</td>\n",
       "    </tr>\n",
       "    <tr>\n",
       "      <th>svd1_dict</th>\n",
       "      <td>1.237101</td>\n",
       "      <td>0.951064</td>\n",
       "      <td>40.973797</td>\n",
       "      <td>0.806278</td>\n",
       "    </tr>\n",
       "    <tr>\n",
       "      <th>svd2_dict</th>\n",
       "      <td>1.221125</td>\n",
       "      <td>0.927406</td>\n",
       "      <td>65.419627</td>\n",
       "      <td>0.818640</td>\n",
       "    </tr>\n",
       "    <tr>\n",
       "      <th>svd3_dict</th>\n",
       "      <td>1.219963</td>\n",
       "      <td>0.924606</td>\n",
       "      <td>95.135183</td>\n",
       "      <td>0.834711</td>\n",
       "    </tr>\n",
       "    <tr>\n",
       "      <th>svd_final_dict</th>\n",
       "      <td>1.219865</td>\n",
       "      <td>0.922972</td>\n",
       "      <td>133.075600</td>\n",
       "      <td>1.460753</td>\n",
       "    </tr>\n",
       "  </tbody>\n",
       "</table>\n",
       "</div>"
      ],
      "text/plain": [
       "                        test_rmse  test_mae    fit_time  test_time\n",
       "KNN_basic_cos_dict       1.262665  0.939480   15.110428   2.059231\n",
       "KNN_basic_pearson_dict   1.259578  0.956636   19.044388   1.790483\n",
       "KNN_mean_cos_dict        1.260920  0.943496   14.533423   1.789288\n",
       "KNN_mean_pearson_dict    1.260106  0.955121   18.627990   1.555172\n",
       "KNN_z_pearson_dict       1.259619  0.950190   19.586682   1.502960\n",
       "KNN_base_pearson_dict    1.224198  0.911362   13.672175   1.769477\n",
       "svd1_dict                1.237101  0.951064   40.973797   0.806278\n",
       "svd2_dict                1.221125  0.927406   65.419627   0.818640\n",
       "svd3_dict                1.219963  0.924606   95.135183   0.834711\n",
       "svd_final_dict           1.219865  0.922972  133.075600   1.460753"
      ]
     },
     "execution_count": 83,
     "metadata": {},
     "output_type": "execute_result"
    }
   ],
   "source": [
    "# Create and display dataframe of all models and mean test scores\n",
    "res_list = [KNN_basic_cos_dict,\n",
    "            KNN_basic_pearson_dict,\n",
    "            KNN_mean_cos_dict,\n",
    "            KNN_mean_pearson_dict,\n",
    "            KNN_z_pearson_dict,\n",
    "            KNN_base_pearson_dict,\n",
    "            svd1_dict,\n",
    "            svd2_dict,\n",
    "            svd3_dict,\n",
    "            svd_final_dict]\n",
    "\n",
    "res_list_strings = res_list.to\n",
    "# res_list_strings = [\"KNN_basic_cos_dict\",\n",
    "#                     \"KNN_basic_pearson_dict\",\n",
    "#                     \"KNN_mean_cos_dict\",\n",
    "#                     \"KNN_mean_pearson_dict\",\n",
    "#                     \"KNN_z_pearson_dict\",\n",
    "#                     \"KNN_base_pearson_dict\",\n",
    "#                     \"svd1_dict\",\n",
    "#                     \"svd2_dict\",\n",
    "#                     \"svd3_dict\",\n",
    "#                     \"svd_final_dict\"]\n",
    "\n",
    "test_results_df = pd.DataFrame(res_list, index=res_list_strings)\n",
    "test_results_df"
   ]
  },
  {
   "cell_type": "markdown",
   "metadata": {},
   "source": [
    "Great! We can see that by using our gridsearches, we were able to make some improvements in the RMSE score between iterations. It also looks like our final SVD model has a lower RMSE score than even our best performing KNN Baseline model, so we will move forward to building our recommender system using the SVD model with the best parameters found in our final gridsearch. We can also see that our MAE score is 0.9229, meaning that in terms of rating stars, the average error of our model is off by 0.9229 stars from the actual rating."
   ]
  },
  {
   "cell_type": "markdown",
   "metadata": {
    "id": "Zmu1xxrE1zfr"
   },
   "source": [
    "### Searching Product Codes\n",
    "\n",
    "Here, we create a reduced catalog of product names with their corresponding product codes. We then build a function to search the name of a product to assist our user in looking up product codes to input into the recommender system."
   ]
  },
  {
   "cell_type": "code",
   "execution_count": 78,
   "metadata": {
    "ExecuteTime": {
     "end_time": "2021-06-23T19:31:59.386923Z",
     "start_time": "2021-06-23T19:31:59.362490Z"
    }
   },
   "outputs": [
    {
     "data": {
      "text/html": [
       "<div>\n",
       "<style scoped>\n",
       "    .dataframe tbody tr th:only-of-type {\n",
       "        vertical-align: middle;\n",
       "    }\n",
       "\n",
       "    .dataframe tbody tr th {\n",
       "        vertical-align: top;\n",
       "    }\n",
       "\n",
       "    .dataframe thead th {\n",
       "        text-align: right;\n",
       "    }\n",
       "</style>\n",
       "<table border=\"1\" class=\"dataframe\">\n",
       "  <thead>\n",
       "    <tr style=\"text-align: right;\">\n",
       "      <th></th>\n",
       "      <th>product_code</th>\n",
       "      <th>user</th>\n",
       "      <th>rating</th>\n",
       "      <th>title</th>\n",
       "    </tr>\n",
       "  </thead>\n",
       "  <tbody>\n",
       "    <tr>\n",
       "      <th>0</th>\n",
       "      <td>0</td>\n",
       "      <td>0</td>\n",
       "      <td>2</td>\n",
       "      <td>Crabtree &amp;amp; Evelyn - Gardener's Ultra-Moisturising Hand Therapy Pump - 250g/8.8 OZ</td>\n",
       "    </tr>\n",
       "    <tr>\n",
       "      <th>1</th>\n",
       "      <td>0</td>\n",
       "      <td>1</td>\n",
       "      <td>5</td>\n",
       "      <td>Crabtree &amp;amp; Evelyn - Gardener's Ultra-Moisturising Hand Therapy Pump - 250g/8.8 OZ</td>\n",
       "    </tr>\n",
       "    <tr>\n",
       "      <th>2</th>\n",
       "      <td>0</td>\n",
       "      <td>2</td>\n",
       "      <td>5</td>\n",
       "      <td>Crabtree &amp;amp; Evelyn - Gardener's Ultra-Moisturising Hand Therapy Pump - 250g/8.8 OZ</td>\n",
       "    </tr>\n",
       "    <tr>\n",
       "      <th>3</th>\n",
       "      <td>0</td>\n",
       "      <td>3</td>\n",
       "      <td>5</td>\n",
       "      <td>Crabtree &amp;amp; Evelyn - Gardener's Ultra-Moisturising Hand Therapy Pump - 250g/8.8 OZ</td>\n",
       "    </tr>\n",
       "    <tr>\n",
       "      <th>4</th>\n",
       "      <td>0</td>\n",
       "      <td>4</td>\n",
       "      <td>5</td>\n",
       "      <td>Crabtree &amp;amp; Evelyn - Gardener's Ultra-Moisturising Hand Therapy Pump - 250g/8.8 OZ</td>\n",
       "    </tr>\n",
       "    <tr>\n",
       "      <th>...</th>\n",
       "      <td>...</td>\n",
       "      <td>...</td>\n",
       "      <td>...</td>\n",
       "      <td>...</td>\n",
       "    </tr>\n",
       "    <tr>\n",
       "      <th>538077</th>\n",
       "      <td>6007</td>\n",
       "      <td>194409</td>\n",
       "      <td>5</td>\n",
       "      <td>CND Shellac, Leather Satchel</td>\n",
       "    </tr>\n",
       "    <tr>\n",
       "      <th>538078</th>\n",
       "      <td>6007</td>\n",
       "      <td>175285</td>\n",
       "      <td>5</td>\n",
       "      <td>CND Shellac, Leather Satchel</td>\n",
       "    </tr>\n",
       "    <tr>\n",
       "      <th>538079</th>\n",
       "      <td>6007</td>\n",
       "      <td>416075</td>\n",
       "      <td>5</td>\n",
       "      <td>CND Shellac, Leather Satchel</td>\n",
       "    </tr>\n",
       "    <tr>\n",
       "      <th>538080</th>\n",
       "      <td>12109</td>\n",
       "      <td>416076</td>\n",
       "      <td>1</td>\n",
       "      <td>Juicy Couture I Love Juicy Couture, 1.7 fl. Oz., perfume for women</td>\n",
       "    </tr>\n",
       "    <tr>\n",
       "      <th>538081</th>\n",
       "      <td>12110</td>\n",
       "      <td>4344</td>\n",
       "      <td>5</td>\n",
       "      <td>Juicy Couture I Love Juicy Couture, 3.4 fl. Oz., perfume for women</td>\n",
       "    </tr>\n",
       "  </tbody>\n",
       "</table>\n",
       "<p>536111 rows × 4 columns</p>\n",
       "</div>"
      ],
      "text/plain": [
       "        product_code    user  rating  \\\n",
       "0                  0       0       2   \n",
       "1                  0       1       5   \n",
       "2                  0       2       5   \n",
       "3                  0       3       5   \n",
       "4                  0       4       5   \n",
       "...              ...     ...     ...   \n",
       "538077          6007  194409       5   \n",
       "538078          6007  175285       5   \n",
       "538079          6007  416075       5   \n",
       "538080         12109  416076       1   \n",
       "538081         12110    4344       5   \n",
       "\n",
       "                                                                                        title  \n",
       "0       Crabtree &amp; Evelyn - Gardener's Ultra-Moisturising Hand Therapy Pump - 250g/8.8 OZ  \n",
       "1       Crabtree &amp; Evelyn - Gardener's Ultra-Moisturising Hand Therapy Pump - 250g/8.8 OZ  \n",
       "2       Crabtree &amp; Evelyn - Gardener's Ultra-Moisturising Hand Therapy Pump - 250g/8.8 OZ  \n",
       "3       Crabtree &amp; Evelyn - Gardener's Ultra-Moisturising Hand Therapy Pump - 250g/8.8 OZ  \n",
       "4       Crabtree &amp; Evelyn - Gardener's Ultra-Moisturising Hand Therapy Pump - 250g/8.8 OZ  \n",
       "...                                                                                       ...  \n",
       "538077                                                           CND Shellac, Leather Satchel  \n",
       "538078                                                           CND Shellac, Leather Satchel  \n",
       "538079                                                           CND Shellac, Leather Satchel  \n",
       "538080                     Juicy Couture I Love Juicy Couture, 1.7 fl. Oz., perfume for women  \n",
       "538081                     Juicy Couture I Love Juicy Couture, 3.4 fl. Oz., perfume for women  \n",
       "\n",
       "[536111 rows x 4 columns]"
      ]
     },
     "execution_count": 78,
     "metadata": {},
     "output_type": "execute_result"
    }
   ],
   "source": [
    "# Set pandas options to increase max column width and row number\n",
    "pd.options.display.max_colwidth = 100\n",
    "pd.options.display.max_rows = 500\n",
    "catalog_df"
   ]
  },
  {
   "cell_type": "code",
   "execution_count": 79,
   "metadata": {
    "ExecuteTime": {
     "end_time": "2021-06-23T19:31:59.561578Z",
     "start_time": "2021-06-23T19:31:59.389545Z"
    }
   },
   "outputs": [
    {
     "data": {
      "text/html": [
       "<div>\n",
       "<style scoped>\n",
       "    .dataframe tbody tr th:only-of-type {\n",
       "        vertical-align: middle;\n",
       "    }\n",
       "\n",
       "    .dataframe tbody tr th {\n",
       "        vertical-align: top;\n",
       "    }\n",
       "\n",
       "    .dataframe thead th {\n",
       "        text-align: right;\n",
       "    }\n",
       "</style>\n",
       "<table border=\"1\" class=\"dataframe\">\n",
       "  <thead>\n",
       "    <tr style=\"text-align: right;\">\n",
       "      <th></th>\n",
       "      <th>product_code</th>\n",
       "      <th>title</th>\n",
       "    </tr>\n",
       "  </thead>\n",
       "  <tbody>\n",
       "    <tr>\n",
       "      <th>0</th>\n",
       "      <td>0</td>\n",
       "      <td>Crabtree &amp;amp; Evelyn - Gardener's Ultra-Moisturising Hand Therapy Pump - 250g/8.8 OZ</td>\n",
       "    </tr>\n",
       "    <tr>\n",
       "      <th>559</th>\n",
       "      <td>1</td>\n",
       "      <td>Crabtree &amp;amp; Evelyn Hand Soap, Gardeners, 10.1 fl. oz.</td>\n",
       "    </tr>\n",
       "    <tr>\n",
       "      <th>567</th>\n",
       "      <td>2</td>\n",
       "      <td>Soy Milk Hand Crme</td>\n",
       "    </tr>\n",
       "    <tr>\n",
       "      <th>637</th>\n",
       "      <td>3</td>\n",
       "      <td>Supersmile Powdered Mouthrinse</td>\n",
       "    </tr>\n",
       "    <tr>\n",
       "      <th>653</th>\n",
       "      <td>4</td>\n",
       "      <td>Supersmile Professional Teeth Whitening Toothpaste  Recommended By Cosmetic Dentists, CLINICALLY...</td>\n",
       "    </tr>\n",
       "    <tr>\n",
       "      <th>...</th>\n",
       "      <td>...</td>\n",
       "      <td>...</td>\n",
       "    </tr>\n",
       "    <tr>\n",
       "      <th>538039</th>\n",
       "      <td>12106</td>\n",
       "      <td>St. Tropez Self Tan Bronzing Mousse, 8 fl. oz. &amp;amp; Applicator Mitt Bundle</td>\n",
       "    </tr>\n",
       "    <tr>\n",
       "      <th>538040</th>\n",
       "      <td>12107</td>\n",
       "      <td>Klorane Conditioner with Pomegranate - Color-Treated Hair</td>\n",
       "    </tr>\n",
       "    <tr>\n",
       "      <th>538064</th>\n",
       "      <td>12108</td>\n",
       "      <td>CND Shellac, Brick Knit</td>\n",
       "    </tr>\n",
       "    <tr>\n",
       "      <th>538080</th>\n",
       "      <td>12109</td>\n",
       "      <td>Juicy Couture I Love Juicy Couture, 1.7 fl. Oz., perfume for women</td>\n",
       "    </tr>\n",
       "    <tr>\n",
       "      <th>538081</th>\n",
       "      <td>12110</td>\n",
       "      <td>Juicy Couture I Love Juicy Couture, 3.4 fl. Oz., perfume for women</td>\n",
       "    </tr>\n",
       "  </tbody>\n",
       "</table>\n",
       "<p>12111 rows × 2 columns</p>\n",
       "</div>"
      ],
      "text/plain": [
       "        product_code  \\\n",
       "0                  0   \n",
       "559                1   \n",
       "567                2   \n",
       "637                3   \n",
       "653                4   \n",
       "...              ...   \n",
       "538039         12106   \n",
       "538040         12107   \n",
       "538064         12108   \n",
       "538080         12109   \n",
       "538081         12110   \n",
       "\n",
       "                                                                                                      title  \n",
       "0                     Crabtree &amp; Evelyn - Gardener's Ultra-Moisturising Hand Therapy Pump - 250g/8.8 OZ  \n",
       "559                                                Crabtree &amp; Evelyn Hand Soap, Gardeners, 10.1 fl. oz.  \n",
       "567                                                                                      Soy Milk Hand Crme  \n",
       "637                                                                          Supersmile Powdered Mouthrinse  \n",
       "653     Supersmile Professional Teeth Whitening Toothpaste  Recommended By Cosmetic Dentists, CLINICALLY...  \n",
       "...                                                                                                     ...  \n",
       "538039                          St. Tropez Self Tan Bronzing Mousse, 8 fl. oz. &amp; Applicator Mitt Bundle  \n",
       "538040                                            Klorane Conditioner with Pomegranate - Color-Treated Hair  \n",
       "538064                                                                              CND Shellac, Brick Knit  \n",
       "538080                                   Juicy Couture I Love Juicy Couture, 1.7 fl. Oz., perfume for women  \n",
       "538081                                   Juicy Couture I Love Juicy Couture, 3.4 fl. Oz., perfume for women  \n",
       "\n",
       "[12111 rows x 2 columns]"
      ]
     },
     "execution_count": 79,
     "metadata": {},
     "output_type": "execute_result"
    }
   ],
   "source": [
    "# Create lookup df to look up product codes and/or names\n",
    "lookup_df = catalog_df.drop_duplicates('product_code')\n",
    "lookup_df = lookup_df[['product_code', 'title']]\n",
    "lookup_df"
   ]
  },
  {
   "cell_type": "code",
   "execution_count": 80,
   "metadata": {
    "ExecuteTime": {
     "end_time": "2021-06-23T19:31:59.572183Z",
     "start_time": "2021-06-23T19:31:59.564216Z"
    }
   },
   "outputs": [],
   "source": [
    "# Create function to look up product codes\n",
    "def product_search():\n",
    "    \"\"\"\n",
    "    Prompts user to look up product name and returns product code.\n",
    "\n",
    "    Args:\n",
    "        \n",
    "    Returns:\n",
    "        search_results (DataFrame) : DataFrame including results of searched \n",
    "        product name\n",
    "    \"\"\"\n",
    "    \n",
    "    # Prompt user for item name\n",
    "    query_product = input('Search a brand or product: ')\n",
    "    \n",
    "    # Prompt user for number of results desired\n",
    "    num_results = int(input('Up to how many results would you like to see? '))\n",
    "    \n",
    "    # Slice catalog_df to return DataFrame with results containing query\n",
    "    search_results = lookup_df[lookup_df['title'].str\\\n",
    "                            .contains(query_product, case=False, na=False)]\\\n",
    "                            .head(num_results)\n",
    "    \n",
    "    return search_results"
   ]
  },
  {
   "cell_type": "code",
   "execution_count": 81,
   "metadata": {
    "ExecuteTime": {
     "end_time": "2021-06-23T19:33:53.876743Z",
     "start_time": "2021-06-23T19:31:59.576291Z"
    },
    "scrolled": true
   },
   "outputs": [
    {
     "ename": "KeyboardInterrupt",
     "evalue": "Interrupted by user",
     "output_type": "error",
     "traceback": [
      "\u001b[0;31m---------------------------------------------------------------------------\u001b[0m",
      "\u001b[0;31mKeyboardInterrupt\u001b[0m                         Traceback (most recent call last)",
      "\u001b[0;32m<ipython-input-81-7f68fc40e982>\u001b[0m in \u001b[0;36m<module>\u001b[0;34m\u001b[0m\n\u001b[1;32m      1\u001b[0m \u001b[0;31m# Look up sample product codes\u001b[0m\u001b[0;34m\u001b[0m\u001b[0;34m\u001b[0m\u001b[0;34m\u001b[0m\u001b[0m\n\u001b[0;32m----> 2\u001b[0;31m \u001b[0mproduct_search\u001b[0m\u001b[0;34m(\u001b[0m\u001b[0;34m)\u001b[0m\u001b[0;34m\u001b[0m\u001b[0;34m\u001b[0m\u001b[0m\n\u001b[0m",
      "\u001b[0;32m<ipython-input-80-c089c65ab7e4>\u001b[0m in \u001b[0;36mproduct_search\u001b[0;34m()\u001b[0m\n\u001b[1;32m     12\u001b[0m \u001b[0;34m\u001b[0m\u001b[0m\n\u001b[1;32m     13\u001b[0m     \u001b[0;31m# Prompt user for item name\u001b[0m\u001b[0;34m\u001b[0m\u001b[0;34m\u001b[0m\u001b[0;34m\u001b[0m\u001b[0m\n\u001b[0;32m---> 14\u001b[0;31m     \u001b[0mquery_product\u001b[0m \u001b[0;34m=\u001b[0m \u001b[0minput\u001b[0m\u001b[0;34m(\u001b[0m\u001b[0;34m'Search a brand or product: '\u001b[0m\u001b[0;34m)\u001b[0m\u001b[0;34m\u001b[0m\u001b[0;34m\u001b[0m\u001b[0m\n\u001b[0m\u001b[1;32m     15\u001b[0m \u001b[0;34m\u001b[0m\u001b[0m\n\u001b[1;32m     16\u001b[0m     \u001b[0;31m# Prompt user for number of results desired\u001b[0m\u001b[0;34m\u001b[0m\u001b[0;34m\u001b[0m\u001b[0;34m\u001b[0m\u001b[0m\n",
      "\u001b[0;32m/opt/anaconda3/envs/learn-env/lib/python3.8/site-packages/ipykernel/kernelbase.py\u001b[0m in \u001b[0;36mraw_input\u001b[0;34m(self, prompt)\u001b[0m\n\u001b[1;32m    858\u001b[0m                 \u001b[0;34m\"raw_input was called, but this frontend does not support input requests.\"\u001b[0m\u001b[0;34m\u001b[0m\u001b[0;34m\u001b[0m\u001b[0m\n\u001b[1;32m    859\u001b[0m             )\n\u001b[0;32m--> 860\u001b[0;31m         return self._input_request(str(prompt),\n\u001b[0m\u001b[1;32m    861\u001b[0m             \u001b[0mself\u001b[0m\u001b[0;34m.\u001b[0m\u001b[0m_parent_ident\u001b[0m\u001b[0;34m,\u001b[0m\u001b[0;34m\u001b[0m\u001b[0;34m\u001b[0m\u001b[0m\n\u001b[1;32m    862\u001b[0m             \u001b[0mself\u001b[0m\u001b[0;34m.\u001b[0m\u001b[0m_parent_header\u001b[0m\u001b[0;34m,\u001b[0m\u001b[0;34m\u001b[0m\u001b[0;34m\u001b[0m\u001b[0m\n",
      "\u001b[0;32m/opt/anaconda3/envs/learn-env/lib/python3.8/site-packages/ipykernel/kernelbase.py\u001b[0m in \u001b[0;36m_input_request\u001b[0;34m(self, prompt, ident, parent, password)\u001b[0m\n\u001b[1;32m    902\u001b[0m             \u001b[0;32mexcept\u001b[0m \u001b[0mKeyboardInterrupt\u001b[0m\u001b[0;34m:\u001b[0m\u001b[0;34m\u001b[0m\u001b[0;34m\u001b[0m\u001b[0m\n\u001b[1;32m    903\u001b[0m                 \u001b[0;31m# re-raise KeyboardInterrupt, to truncate traceback\u001b[0m\u001b[0;34m\u001b[0m\u001b[0;34m\u001b[0m\u001b[0;34m\u001b[0m\u001b[0m\n\u001b[0;32m--> 904\u001b[0;31m                 \u001b[0;32mraise\u001b[0m \u001b[0mKeyboardInterrupt\u001b[0m\u001b[0;34m(\u001b[0m\u001b[0;34m\"Interrupted by user\"\u001b[0m\u001b[0;34m)\u001b[0m \u001b[0;32mfrom\u001b[0m \u001b[0;32mNone\u001b[0m\u001b[0;34m\u001b[0m\u001b[0;34m\u001b[0m\u001b[0m\n\u001b[0m\u001b[1;32m    905\u001b[0m             \u001b[0;32mexcept\u001b[0m \u001b[0mException\u001b[0m \u001b[0;32mas\u001b[0m \u001b[0me\u001b[0m\u001b[0;34m:\u001b[0m\u001b[0;34m\u001b[0m\u001b[0;34m\u001b[0m\u001b[0m\n\u001b[1;32m    906\u001b[0m                 \u001b[0mself\u001b[0m\u001b[0;34m.\u001b[0m\u001b[0mlog\u001b[0m\u001b[0;34m.\u001b[0m\u001b[0mwarning\u001b[0m\u001b[0;34m(\u001b[0m\u001b[0;34m\"Invalid Message:\"\u001b[0m\u001b[0;34m,\u001b[0m \u001b[0mexc_info\u001b[0m\u001b[0;34m=\u001b[0m\u001b[0;32mTrue\u001b[0m\u001b[0;34m)\u001b[0m\u001b[0;34m\u001b[0m\u001b[0;34m\u001b[0m\u001b[0m\n",
      "\u001b[0;31mKeyboardInterrupt\u001b[0m: Interrupted by user"
     ]
    }
   ],
   "source": [
    "# Look up sample product codes\n",
    "product_search()"
   ]
  },
  {
   "cell_type": "markdown",
   "metadata": {},
   "source": [
    "### Building the Recommender System\n",
    "\n",
    "In this section, we will take the hyperparameters from our best performing SVD model to build a usable recommender system. Upon running the function, the user will be prompted to enter a list of product codes of products that they gave high ratings to, and they will be given a list of products that our algorithm would recommend."
   ]
  },
  {
   "cell_type": "code",
   "execution_count": null,
   "metadata": {
    "ExecuteTime": {
     "end_time": "2021-06-23T19:33:53.879936Z",
     "start_time": "2021-06-23T18:27:28.267Z"
    }
   },
   "outputs": [],
   "source": [
    "# Check last user number\n",
    "df['user'].sort_values().tail()"
   ]
  },
  {
   "cell_type": "code",
   "execution_count": null,
   "metadata": {
    "ExecuteTime": {
     "end_time": "2021-06-23T19:33:53.882235Z",
     "start_time": "2021-06-23T18:27:28.270Z"
    }
   },
   "outputs": [],
   "source": [
    "# Create function to train model on full dataset and return recommendations\n",
    "def user_ratings(lr_all=0.025, n_epochs=50, n_factors=150, reg_all=0.1, \\\n",
    "                 random_state=27):\n",
    "    \"\"\"\n",
    "    Prompts user to enter customer's preferred product codes, models SVD\n",
    "    using ideal hyperparameters, and returns however many predictions\n",
    "    the user requests.\n",
    "\n",
    "    Args:\n",
    "        lr_all : The learning rate for all parameters. Default is ``0.025``.\n",
    "        n_epochs : The number of iteration of the SGD procedure. Default is \n",
    "            ``50``.\n",
    "        n_factors : The number of factors. Default is ``150``.\n",
    "        reg_all : The regularization term for all parameters. Default is \n",
    "            ``0.1``.\n",
    "        random_state (int) : Determines the RNG that will be used for \n",
    "            initialization. If int, ``random_state`` will be used as a seed \n",
    "            for a new RNG. This is useful to get the same initialization over \n",
    "            multiple calls to ``fit()``.  If RandomState instance, this same \n",
    "            instance is used as RNG. If ``None``, the current RNG from numpy \n",
    "            is used.  Default is``27``.\n",
    "        \n",
    "    Returns:\n",
    "        rec_list (DataFrame) : DataFrame recommendations based on new user's\n",
    "        preferred products.\n",
    "    \"\"\"\n",
    "    \n",
    "    # Prompt user for list of product codes\n",
    "    list_of_products = [int(x) for x in \\\n",
    "                        input('Enter product codes preferred by customer (separate by spaces): ')\\\n",
    "                        .split()]\n",
    "    \n",
    "    # Prompt user for desired number of product recommendations\n",
    "    num_res = int(input('How many recommendations would you like? '))\n",
    "    \n",
    "    # Create list of ratings to add to dataset\n",
    "    my_ratings = []\n",
    "    for product in list_of_products:\n",
    "        my_ratings.append({'user': 600000, 'product_code': product, \\\n",
    "                           'rating': '5'})\n",
    "    \n",
    "    # Add new ratings to full dataset\n",
    "    new_ratings_df = df.append(my_ratings,ignore_index=True)\n",
    "    \n",
    "    # Format dataset for modeling\n",
    "    reader = Reader(line_format='item user rating')\n",
    "    new_data = Dataset.load_from_df(new_ratings_df,reader)\n",
    "    \n",
    "    # Train model on full dataset using preset hyperparameters\n",
    "    svd_ = SVD(lr_all=lr_all, n_epochs=n_epochs, n_factors=n_factors, \\\n",
    "               reg_all=reg_all, random_state=random_state)\n",
    "    svd_.fit(new_data.build_full_trainset())\n",
    "    \n",
    "    # Create total list of predictions for new user\n",
    "    list_of_predictions = []\n",
    "    for item in df['product_code'].unique():\n",
    "        list_of_predictions.append((item, svd_.predict(600000, item)[3]))\n",
    "    \n",
    "    # Sort predictions from high to low\n",
    "    ranked_predictions = sorted(list_of_predictions, key=lambda x:x[1], \\\n",
    "                                reverse=True)\n",
    "    \n",
    "    # Create dataframe from ranked predictions\n",
    "    ranked_df = pd.DataFrame(ranked_predictions, columns=['product_code', \\\n",
    "                                                          'rating'])\n",
    "    \n",
    "    # Merge predictions with lookup df to get product names\n",
    "    merged_df = ranked_df.merge(lookup_df, how='inner', on='product_code')\n",
    "    \n",
    "    # Create dataframe with requested number of results\n",
    "    rec_list = merged_df.head(num_res)\n",
    "    \n",
    "    \n",
    "    \n",
    "    return rec_list"
   ]
  },
  {
   "cell_type": "code",
   "execution_count": null,
   "metadata": {
    "ExecuteTime": {
     "end_time": "2021-06-23T19:33:53.883856Z",
     "start_time": "2021-06-23T18:27:28.273Z"
    }
   },
   "outputs": [],
   "source": [
    "# Test function\n",
    "user_ratings()"
   ]
  },
  {
   "cell_type": "markdown",
   "metadata": {},
   "source": [
    "And there we have our product recommendations! Now, let's take a look at what the top products were by selecting the top 10 products in number of ratings."
   ]
  },
  {
   "cell_type": "code",
   "execution_count": null,
   "metadata": {
    "ExecuteTime": {
     "end_time": "2021-06-23T19:33:53.885495Z",
     "start_time": "2021-06-23T18:27:28.278Z"
    }
   },
   "outputs": [],
   "source": [
    "# View top 10 products with most reviews\n",
    "top_series = catalog_df['product_code'].value_counts().head(10)\n",
    "top_df = pd.DataFrame(top_series)\n",
    "top_df"
   ]
  },
  {
   "cell_type": "code",
   "execution_count": null,
   "metadata": {
    "ExecuteTime": {
     "end_time": "2021-06-23T19:33:53.887274Z",
     "start_time": "2021-06-23T18:27:28.280Z"
    }
   },
   "outputs": [],
   "source": [
    "# Create list of top 10 products with most reviews\n",
    "top_list = catalog_df['product_code'].value_counts().index[:10].tolist()\n",
    "top_list"
   ]
  },
  {
   "cell_type": "code",
   "execution_count": null,
   "metadata": {
    "ExecuteTime": {
     "end_time": "2021-06-23T19:33:53.888828Z",
     "start_time": "2021-06-23T18:27:28.284Z"
    }
   },
   "outputs": [],
   "source": [
    "# Merge top_df with lookup_df\n",
    "new_df = top_df.merge(lookup_df, how='left', left_index=True, \\\n",
    "                      right_on='product_code')\n",
    "new_df = new_df.groupby('title').agg({'product_code_x':'sum'})\\\n",
    "                                .sort_values(by='product_code_x', \\\n",
    "                                             ascending=False)\n",
    "new_df"
   ]
  },
  {
   "cell_type": "code",
   "execution_count": null,
   "metadata": {
    "ExecuteTime": {
     "end_time": "2021-06-23T19:33:53.890349Z",
     "start_time": "2021-06-23T18:27:28.287Z"
    }
   },
   "outputs": [],
   "source": [
    "# Limit title length to 45 characters\n",
    "new_df.index = new_df.index.str[:45]\n",
    "new_df = new_df.reset_index()\n",
    "new_df"
   ]
  },
  {
   "cell_type": "code",
   "execution_count": null,
   "metadata": {
    "ExecuteTime": {
     "end_time": "2021-06-23T19:33:53.891890Z",
     "start_time": "2021-06-23T18:27:28.290Z"
    }
   },
   "outputs": [],
   "source": [
    "# Create bar plot most popular products\n",
    "fig, ax = plt.subplots(figsize=(10,7))\n",
    "\n",
    "g = sns.barplot(data=new_df, x='title', y='product_code_x', palette='cool', \\\n",
    "                ci=None)\n",
    "\n",
    "ax.set_title('Number of Users per Ratings Given')\n",
    "ax.set_xlabel('Ratings Given')\n",
    "ax.set_ylabel('Number of Users')\n",
    "ax.set_xticklabels(ax.get_xticklabels(), rotation=45, ha='right')\n",
    "\n",
    "for p in ax.patches:\n",
    "             ax.annotate(\"%.0f\" % p.get_height(), \\\n",
    "                         (p.get_x() + p.get_width() / 2., p.get_height()),\n",
    "                 ha='center', va='center', fontsize=13, color='black', \\\n",
    "                         xytext=(0, 5),\n",
    "                 textcoords='offset points');"
   ]
  },
  {
   "cell_type": "markdown",
   "metadata": {},
   "source": [
    "Assuming that our client already carries these products which are popular on Amazon, let's see what other product recommendations we can get. "
   ]
  },
  {
   "cell_type": "code",
   "execution_count": null,
   "metadata": {
    "ExecuteTime": {
     "end_time": "2021-06-23T19:33:53.893444Z",
     "start_time": "2021-06-23T18:27:28.293Z"
    }
   },
   "outputs": [],
   "source": [
    "# Get final recommendations\n",
    "user_ratings()"
   ]
  },
  {
   "cell_type": "markdown",
   "metadata": {
    "id": "g-ZVAUzf1zfw"
   },
   "source": [
    "## Conclusions\n",
    "\n",
    "And there we have our final product recommendations! We can see that the Singular Value Decomposition had the best performance with respect to RMSE. Upon running a series of gridsearches, we were also able to determine the optimal hyperparameters to further reduce the RMSE score. \n",
    "\n",
    "To interpret our error, we looked at the MAE score which was 0.9237 on our final best model, meaning that  the average error of our model is off by 0.9237 stars from the actual rating.\n",
    "\n",
    "Finally, we built out functions to help us look up product codes to put into a recommender system which would then provide us with however many product recommendations the user desires.\n",
    "\n",
    "The value of this project lies in the ability to use Amazon's huge amount of ratings data to identify what other products a smaller retailer might want to consider adding to their inventory. The only additional data that we would need from the retailer would be customer preferences on the products that the retailer currently carries and that the customer would give high ratings to, and we can place this information in the context of Amazon's ratings to determine what other products this customer would be likely to give high ratings to.\n",
    "\n",
    "A limitation to this analysis is that the dataset only contains beauty products under the \"Luxury Beauty\" category, which is a collection of approved brands. Amazon also has a category labeled \"All Beauty\" whose data we have omitted in this analysis due to hardware limitations that would occur under the stress of dealing with the such a large size of these combined datasets.\n",
    "\n",
    "To summarize, here are the final recommendations for our client:\n",
    "\n",
    "1. In order to build a similar recommender system, SVD would be the best algorithm to use, with the following hyperparameters: lr_all=0.025, n_epochs=50, n_factors=150, reg_all=0.1\n",
    "2. Client should carry the following products based on popularity on Amazon:\n",
    "* TOPPIK Hair Building Fibers\n",
    "* HOT TOOLS Professional 24k Gold Extra-Long Barrel Curling Iron/Wand\n",
    "* Mario Badescu Facial Spray with Aloe, Herbs and Rosewater\n",
    "* OPI Nail Lacquer, Cajun Shrimp\n",
    "* OPI Nail Lacquer, Not So Bora-Bora-ing Pink\n",
    "* BaBylissPRO Ceramix Xtreme Dryer\n",
    "* OPI Nail Envy Nail Strengthener\n",
    "* Proraso Shaving Soap in a Bowl, Refreshing and Toning\n",
    "\n",
    "3. Assuming that our client's current customers would give high ratings to those products, our client should also consider carrying the following products:\n",
    "* Crabtree & Evelyn - Gardener's Ultra-Moisturising Hand Therapy Pump\n",
    "* Crabtree & Evelyn Hand Soap, Gardeners\n",
    "* Soy Milk Hand Crme\n",
    "* Paul Mitchell Shampoo One\n",
    "* Glytone Rejuvenating Mask\n",
    "* PCA SKIN Protecting Hydrator Broad Spectrum SPF 30\n",
    "* jane iredale Amazing Base Loose Mineral Powder\n",
    "* jane iredale So-Bronze, Bronzing Powder\n",
    "* YU-Be: Japan’s secret for dry skin relief. Deep hydrating moisturizing cream for face, hand and body\n",
    "* Calvin Klein ETERNITY Eau de Parfum\n",
    "\n",
    "\n",
    "\n",
    "Although ALS has been proven to be an effective algorithm in recommender systems, it was surprising to see such a poor performance score with the data used in this analysis. Moving forward, it might be a worthwhile investigation to see how the model performs if we combine data from the \"All Beauty\" category with the data used in this analysis."
   ]
  },
  {
   "cell_type": "code",
   "execution_count": null,
   "metadata": {},
   "outputs": [],
   "source": []
  }
 ],
 "metadata": {
  "accelerator": "TPU",
  "colab": {
   "machine_shape": "hm",
   "name": "dsc-phase4-project-rougheda.ipynb",
   "provenance": []
  },
  "kernelspec": {
   "display_name": "Python 3",
   "language": "python",
   "name": "python3"
  },
  "language_info": {
   "codemirror_mode": {
    "name": "ipython",
    "version": 3
   },
   "file_extension": ".py",
   "mimetype": "text/x-python",
   "name": "python",
   "nbconvert_exporter": "python",
   "pygments_lexer": "ipython3",
   "version": "3.8.5"
  },
  "toc": {
   "base_numbering": 1,
   "nav_menu": {},
   "number_sections": true,
   "sideBar": true,
   "skip_h1_title": false,
   "title_cell": "Table of Contents",
   "title_sidebar": "Contents",
   "toc_cell": false,
   "toc_position": {
    "height": "calc(100% - 180px)",
    "left": "10px",
    "top": "150px",
    "width": "373.333px"
   },
   "toc_section_display": true,
   "toc_window_display": true
  }
 },
 "nbformat": 4,
 "nbformat_minor": 1
}
